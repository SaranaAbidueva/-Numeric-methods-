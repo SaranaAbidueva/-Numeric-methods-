{
 "cells": [
  {
   "cell_type": "markdown",
   "metadata": {},
   "source": [
    "Реализация методов вычисления определенного интеграла для f(x) = 2 cos(2.5x) exp(x/3) + 4 sin(3.5x) exp(−3x) + x, \n",
    "a = 1.5, b = 3.3, α = 1/3, β = 0"
   ]
  },
  {
   "cell_type": "code",
   "execution_count": 1,
   "metadata": {},
   "outputs": [],
   "source": [
    "import numpy as np\n",
    "import matplotlib.pyplot as plt\n",
    "from cmath import sqrt\n",
    "import cmath"
   ]
  },
  {
   "cell_type": "code",
   "execution_count": 2,
   "metadata": {},
   "outputs": [],
   "source": [
    "from math import cos, exp, sin, acos, pi, log\n",
    "def f(x):\n",
    "    return 2*cos(2.5*x)*exp(x/3)+4*sin(3.5*x)*exp(-3*x)+x\n",
    "a = 1.5\n",
    "b = 3.3\n",
    "alpha = 1/3\n",
    "beta = 0\n",
    "\n",
    "J_true = 7.258002984374563 # \"истинное\" значение интеграла"
   ]
  },
  {
   "cell_type": "raw",
   "metadata": {},
   "source": [
    "# 1. Квадратурные формулы Ньютона-Котса и Гаусса"
   ]
  },
  {
   "cell_type": "markdown",
   "metadata": {},
   "source": [
    "##  1.1 Составные квадратурные формулы"
   ]
  },
  {
   "cell_type": "markdown",
   "metadata": {},
   "source": [
    "Реализация методов вычисления определенного интеграла с использованием составных квадратурных формул: средних и левых прямоугольников, трапеции, Симпсона"
   ]
  },
  {
   "cell_type": "markdown",
   "metadata": {},
   "source": [
    "### Формула средних прямоугольников"
   ]
  },
  {
   "cell_type": "code",
   "execution_count": 3,
   "metadata": {},
   "outputs": [],
   "source": [
    "def mean_rectangles(k=50):\n",
    "    nodes = [a+(l-1)*(b-a)/(k-1) for l in range(1, k+1)]\n",
    "    J = 0\n",
    "    h = nodes[1] - nodes[0]\n",
    "    for i in range(len(nodes)-1):\n",
    "        J += h*f((nodes[i]+nodes[i+1])/2)\n",
    "    return J"
   ]
  },
  {
   "cell_type": "code",
   "execution_count": 4,
   "metadata": {},
   "outputs": [
    {
     "data": {
      "text/plain": [
       "7.258013087085679"
      ]
     },
     "execution_count": 4,
     "metadata": {},
     "output_type": "execute_result"
    }
   ],
   "source": [
    "mean_rectangles(500)"
   ]
  },
  {
   "cell_type": "code",
   "execution_count": 5,
   "metadata": {},
   "outputs": [],
   "source": [
    "def graph(method):\n",
    "    errors = []\n",
    "    for j in range(2, 100):\n",
    "        errors.append(abs(method(j) - J_true))\n",
    "    plt.plot(range(2, 100), errors)"
   ]
  },
  {
   "cell_type": "code",
   "execution_count": 6,
   "metadata": {},
   "outputs": [
    {
     "data": {
      "image/png": "[encoded data removed]",
      "text/plain": [
       "<Figure size 432x288 with 1 Axes>"
      ]
     },
     "metadata": {
      "needs_background": "light"
     },
     "output_type": "display_data"
    }
   ],
   "source": [
    "graph(mean_rectangles)"
   ]
  },
  {
   "cell_type": "markdown",
   "metadata": {},
   "source": [
    "### Формула левых прямоугольников"
   ]
  },
  {
   "cell_type": "code",
   "execution_count": 7,
   "metadata": {},
   "outputs": [],
   "source": [
    "def left_rectangles(k):\n",
    "    nodes = [a+(l-1)*(b-a)/(k-1) for l in range(1, k+1)]\n",
    "    J = 0\n",
    "    h = nodes[1] - nodes[0]\n",
    "    for i in range(len(nodes)-1):\n",
    "        J += h*f(nodes[i])\n",
    "    return J"
   ]
  },
  {
   "cell_type": "code",
   "execution_count": 8,
   "metadata": {},
   "outputs": [
    {
     "data": {
      "text/plain": [
       "7.253967872470877"
      ]
     },
     "execution_count": 8,
     "metadata": {},
     "output_type": "execute_result"
    }
   ],
   "source": [
    "left_rectangles(500)"
   ]
  },
  {
   "cell_type": "code",
   "execution_count": 9,
   "metadata": {},
   "outputs": [
    {
     "data": {
      "image/png": "[encoded data removed]",
      "text/plain": [
       "<Figure size 432x288 with 1 Axes>"
      ]
     },
     "metadata": {
      "needs_background": "light"
     },
     "output_type": "display_data"
    }
   ],
   "source": [
    "graph(left_rectangles)"
   ]
  },
  {
   "cell_type": "markdown",
   "metadata": {},
   "source": [
    "### Формула трапеций"
   ]
  },
  {
   "cell_type": "code",
   "execution_count": 10,
   "metadata": {},
   "outputs": [],
   "source": [
    "def trapezoid(k=50):\n",
    "    nodes = [a+(l-1)*(b-a)/(k-1) for l in range(1, k+1)]\n",
    "    J = 0\n",
    "    h = nodes[1] - nodes[0]\n",
    "    for i in range(len(nodes)-1):\n",
    "        J += h/2 * (f(nodes[i])+f(nodes[i+1]))\n",
    "    return J"
   ]
  },
  {
   "cell_type": "code",
   "execution_count": 11,
   "metadata": {},
   "outputs": [
    {
     "data": {
      "text/plain": [
       "7.25798277897152"
      ]
     },
     "execution_count": 11,
     "metadata": {},
     "output_type": "execute_result"
    }
   ],
   "source": [
    "trapezoid(500)"
   ]
  },
  {
   "cell_type": "code",
   "execution_count": 12,
   "metadata": {},
   "outputs": [
    {
     "data": {
      "image/png": "[encoded data removed]",
      "text/plain": [
       "<Figure size 432x288 with 1 Axes>"
      ]
     },
     "metadata": {
      "needs_background": "light"
     },
     "output_type": "display_data"
    }
   ],
   "source": [
    "graph(trapezoid)"
   ]
  },
  {
   "cell_type": "markdown",
   "metadata": {},
   "source": [
    "### Формула Симпсона"
   ]
  },
  {
   "cell_type": "code",
   "execution_count": 13,
   "metadata": {},
   "outputs": [],
   "source": [
    "def simpson(k = 50):\n",
    "    nodes = [a+(l-1)*(b-a)/(k-1) for l in range(1, k+1)]\n",
    "    J = 0\n",
    "    h = nodes[1] - nodes[0]\n",
    "    for i in range(len(nodes)-1):\n",
    "        J += h/6 * (f(nodes[i])+4*f((nodes[i]+nodes[i+1])/2)+f(nodes[i+1]))\n",
    "    return J"
   ]
  },
  {
   "cell_type": "code",
   "execution_count": 14,
   "metadata": {},
   "outputs": [
    {
     "data": {
      "text/plain": [
       "7.2580029843809655"
      ]
     },
     "execution_count": 14,
     "metadata": {},
     "output_type": "execute_result"
    }
   ],
   "source": [
    "simpson(500)"
   ]
  },
  {
   "cell_type": "code",
   "execution_count": 15,
   "metadata": {},
   "outputs": [
    {
     "data": {
      "image/png": "[encoded data removed]",
      "text/plain": [
       "<Figure size 432x288 with 1 Axes>"
      ]
     },
     "metadata": {
      "needs_background": "light"
     },
     "output_type": "display_data"
    }
   ],
   "source": [
    "graph(simpson)"
   ]
  },
  {
   "cell_type": "code",
   "execution_count": 16,
   "metadata": {},
   "outputs": [
    {
     "data": {
      "text/plain": [
       "<matplotlib.legend.Legend at 0x1cbcc6bbd60>"
      ]
     },
     "execution_count": 16,
     "metadata": {},
     "output_type": "execute_result"
    },
    {
     "data": {
      "image/png": "[encoded data removed]",
      "text/plain": [
       "<Figure size 432x288 with 1 Axes>"
      ]
     },
     "metadata": {
      "needs_background": "light"
     },
     "output_type": "display_data"
    }
   ],
   "source": [
    "errors = []\n",
    "for j in range(2, 100):\n",
    "    errors.append(abs(mean_rectangles(j) - J_true))\n",
    "plt.plot(range(2, 100), errors, label = 'mean_rectangles')\n",
    "errors = []\n",
    "for j in range(2, 100):\n",
    "    errors.append(abs(left_rectangles(j) - J_true))\n",
    "plt.plot(range(2, 100), errors, label = 'left_rectangles')\n",
    "errors = []\n",
    "for j in range(2, 100):\n",
    "    errors.append(abs(trapezoid(j) - J_true))\n",
    "plt.plot(range(2, 100), errors, label = 'trapezoid')\n",
    "errors = []\n",
    "for j in range(2, 100):\n",
    "    errors.append(abs(simpson(j) - J_true))\n",
    "plt.plot(range(2, 100), errors, label = 'simpson')\n",
    "plt.legend()"
   ]
  },
  {
   "cell_type": "markdown",
   "metadata": {},
   "source": [
    "## 1.2 Cоставные квадратурные формулы на базе 3-x-точечных формул Ньютона-Котса и Гаусса"
   ]
  },
  {
   "cell_type": "code",
   "execution_count": 17,
   "metadata": {},
   "outputs": [],
   "source": [
    "def p(x):\n",
    "    return (x-a)**(-alpha)*(b-x)**(-beta)\n",
    "def F(x):\n",
    "    return f(x)*p(x)\n",
    "J2_true = 7.07703"
   ]
  },
  {
   "cell_type": "markdown",
   "metadata": {},
   "source": [
    "### Формула Гаусса"
   ]
  },
  {
   "cell_type": "code",
   "execution_count": 18,
   "metadata": {},
   "outputs": [],
   "source": [
    "# для решения СЛАУ понадобится метод отражений.\n",
    "def metod_otr(A, b):\n",
    "    n = len(b)\n",
    "    Q = np.eye(n)\n",
    "    R = np.copy(A)\n",
    "    for i in range(n-1):\n",
    "        # строим w\n",
    "        y = [0]*(n-i)  # n-i-й столбец матрицы R\n",
    "        for j in range(i, n):\n",
    "            y[j-i]=R[j][i]\n",
    "        z = np.zeros(n-i)\n",
    "        z[0] = 1  # z - орт е1\n",
    "        alpha1 = np.linalg.norm(y)\n",
    "        w = (y-alpha1*z)\n",
    "        if np.linalg.norm(w) != 0:\n",
    "            w /= np.linalg.norm(y-alpha1*z)\n",
    "        # строим Q, R\n",
    "        W = np.eye(n-i)  # W= w*wT - матрица\n",
    "        for j in range(n-i):\n",
    "            for k in range(n-i):\n",
    "                W[j][k] = w[j]*w[k]\n",
    "        Q_small = np.eye(n-i)-2*W\n",
    "        R_small = np.zeros((n-i, n-i))\n",
    "        for j in range(i, n):\n",
    "            for k in range(i, n):\n",
    "                R_small[j-i][k-i] = R[j][k]  \n",
    "        R_small = np.dot(Q_small,R_small)\n",
    "        # Q new, размера nxn\n",
    "        Q_new = np.eye(n)\n",
    "        if (i==0):\n",
    "            R = np.eye(n)\n",
    "        for j in range(i, n):\n",
    "            for k in range(i, n):\n",
    "                Q_new[j][k] = Q_small[j-i][k-i]\n",
    "                R[j][k] = R_small[j-i][k-i]           \n",
    "        Q = np.dot(Q, Q_new)\n",
    "    # обратный ход\n",
    "    y = np.dot(np.transpose(Q),b)\n",
    "    x = np.copy(y)\n",
    "    for i in range(n-1, -1, -1):\n",
    "        for j in range(n-2, i-1, -1):\n",
    "            x[i] -= x[j+1]*R[i][j+1]\n",
    "        x[i]/=R[i][i]\n",
    "    return x"
   ]
  },
  {
   "cell_type": "code",
   "execution_count": 19,
   "metadata": {},
   "outputs": [],
   "source": [
    "def Gauss(n):\n",
    "    h = (b - a)/n\n",
    "    res = 0\n",
    "    for i in range(n):\n",
    "        x1 = a + i*h\n",
    "        x2 = x1 + h\n",
    "        # вычислим моменты\n",
    "        mu_0 = ((x2 - a)**(1 - alpha) - (x1 - a)**(1 - alpha)) / (1 - alpha)\n",
    "        mu_1 = ((x2 - a)**(2 - alpha) - (x1 - a)**(2 - alpha))/ (2 - alpha) + a*mu_0\n",
    "        mu_2 = ((x2 - a)**(3 - alpha) - (x1 - a)**(3 - alpha)) / (3 - alpha) + 2*a*mu_1 - a**2*mu_0\n",
    "        mu_3 = ((x2 - a)**(4 - alpha) - (x1 - a)**(4 - alpha)) / (4 - alpha) + 3*a*mu_2 - 3*a**2*mu_1 + a**3*mu_0\n",
    "        mu_4 = ((x2 - a)**(5 - alpha) - (x1 - a)**(5 - alpha)) / (5 - alpha) + 4*a*mu_3 - 6*a**2*mu_2 + 4*a**3*mu_1 - a**4*mu_0\n",
    "        mu_5 = ((x2 - a)**(6 - alpha) - (x1 - a)**(6 - alpha)) / (6 - alpha) + 5*a*mu_4 - 10*a**2*mu_3 + 10*a**3*mu_2 - 5*a**4*mu_1 + a**5*mu_0\n",
    "        mu = [mu_0, mu_1, mu_2, mu_3, mu_4, mu_5]\n",
    "        # решим СЛАУ A_*A = mu_\n",
    "        A_ = [[mu_0, mu_1, mu_2], [mu_1, mu_2, mu_3], [mu_2, mu_3, mu_4]]\n",
    "        mu_ = [-mu_3, -mu_4, -mu_5]\n",
    "        A = metod_otr(A_, mu_)\n",
    "        # определим узловой многочлен, вычислим его корни по формуле Кардано\n",
    "        def w(x):\n",
    "            return x**3 + A[2]*x**2 + A[1]*x + A[0]\n",
    "        a_ = 1\n",
    "        b_ = A[2] \n",
    "        c_ = A[1]\n",
    "        d_ = A[0]\n",
    "        p = (3*a_*c_ - b_**2)/(3*a_**2)\n",
    "        q = (2*b_**3 - 9*a_*b_*c_ + 27*a_**2*d_)/(27*a_**3)\n",
    "        Q = (p/3)**3 + (q/2)**2\n",
    "        # Q<0 => три вещественных корня\n",
    "        if Q < 0:\n",
    "            alpha_ = (-q/2 + sqrt(Q)*pi)\n",
    "            beta_ = (-q/2 - sqrt(Q)*pi)\n",
    "            y1 = alpha_ + beta_ - b_/3\n",
    "            y2 = -(alpha_ + beta_)/2 + 1j*(alpha_ - beta_)/2*sqrt(3) - b_/3\n",
    "            y3 = -(alpha_ + beta_)/2 - 1j*(alpha_ - beta_)/2*sqrt(3) - b_/3\n",
    "            # \n",
    "        x = [y1.real, y2.real, y3.real]\n",
    "        X = [[1]*3, x, [xi**2 for xi in x]]\n",
    "        mu = [mu_0, mu_1, mu_2]\n",
    "        Aj = metod_otr(X, mu)\n",
    "        for i in range(3):\n",
    "            res += f(x[i])*Aj[i]\n",
    "    return res"
   ]
  },
  {
   "cell_type": "code",
   "execution_count": 20,
   "metadata": {},
   "outputs": [
    {
     "data": {
      "text/plain": [
       "7.077026556711644"
      ]
     },
     "execution_count": 20,
     "metadata": {},
     "output_type": "execute_result"
    }
   ],
   "source": [
    "Gauss(100)"
   ]
  },
  {
   "cell_type": "code",
   "execution_count": 21,
   "metadata": {},
   "outputs": [],
   "source": [
    "def graph2(method):\n",
    "    errors = []\n",
    "    for j in range(2, 100):\n",
    "        errors.append(abs(method(j) - J2_true))\n",
    "    plt.plot(range(2, 100), errors)"
   ]
  },
  {
   "cell_type": "code",
   "execution_count": 22,
   "metadata": {},
   "outputs": [
    {
     "data": {
      "image/png": "[encoded data removed]",
      "text/plain": [
       "<Figure size 432x288 with 1 Axes>"
      ]
     },
     "metadata": {
      "needs_background": "light"
     },
     "output_type": "display_data"
    }
   ],
   "source": [
    "graph2(Gauss)"
   ]
  },
  {
   "cell_type": "markdown",
   "metadata": {},
   "source": [
    "## Формула Ньютона-Котса"
   ]
  },
  {
   "cell_type": "code",
   "execution_count": 23,
   "metadata": {},
   "outputs": [],
   "source": [
    "def Newton_Cotes(n):\n",
    "    h = (b - a) / n\n",
    "    res = 0\n",
    "    for i in range(n):\n",
    "        z1 = a + i*h\n",
    "        z2 = z1 + h\n",
    "        z12 = (z1 + z2)/2\n",
    "        \n",
    "        mu0 = (pow((z2 - a), 1 - alpha) - pow((z1 - a), 1 - alpha)) / (1 - alpha);\n",
    "        mu1 = (pow((z2 - a), 2 - alpha) - pow((z1 - a), 2 - alpha)) / (2 - alpha) + a*mu0;\n",
    "        mu2 = (pow((z2 - a), 3 - alpha) - pow((z1 - a), 3 - alpha)) / (3 - alpha) + 2*a*mu1 - a*a*mu0;\n",
    "\n",
    "        A1 = (mu2 - mu1*(z12 + z2) + mu0*z12*z2) / ((z12 - z1)*(z2 - z1));\n",
    "        A2 = -(mu2 - mu1*(z1 + z2) + mu0*z1*z2) / ((z12 - z1)*(z2 - z12));\n",
    "        A3 = (mu2 - mu1*(z12 + z1) + mu0*z12*z1) / ((z2 - z12)*(z2 - z1));\n",
    "        res += A1*f(z1) + A2*f(z12) + A3*f(z2);\n",
    "    return res"
   ]
  },
  {
   "cell_type": "code",
   "execution_count": 24,
   "metadata": {},
   "outputs": [
    {
     "data": {
      "text/plain": [
       "7.07703143850155"
      ]
     },
     "execution_count": 24,
     "metadata": {},
     "output_type": "execute_result"
    }
   ],
   "source": [
    "Newton_Cotes(300)"
   ]
  },
  {
   "cell_type": "code",
   "execution_count": 25,
   "metadata": {},
   "outputs": [
    {
     "data": {
      "image/png": "[encoded data removed]",
      "text/plain": [
       "<Figure size 432x288 with 1 Axes>"
      ]
     },
     "metadata": {
      "needs_background": "light"
     },
     "output_type": "display_data"
    }
   ],
   "source": [
    "graph2(Newton_Cotes)"
   ]
  },
  {
   "cell_type": "code",
   "execution_count": 26,
   "metadata": {},
   "outputs": [
    {
     "data": {
      "text/plain": [
       "<matplotlib.legend.Legend at 0x1cbcc7bea60>"
      ]
     },
     "execution_count": 26,
     "metadata": {},
     "output_type": "execute_result"
    },
    {
     "data": {
      "image/png": "[encoded data removed]",
      "text/plain": [
       "<Figure size 432x288 with 1 Axes>"
      ]
     },
     "metadata": {
      "needs_background": "light"
     },
     "output_type": "display_data"
    }
   ],
   "source": [
    "errors_gauss = []\n",
    "for j in range(2, 100):\n",
    "    errors_gauss.append(abs(Gauss(j) - J2_true))\n",
    "errors_newt = []\n",
    "for j in range(2, 100):\n",
    "    errors_newt.append(abs(Newton_Cotes(j) - J2_true))\n",
    "plt.plot(range(2, 100), errors_gauss, 'k', label = 'gauss')\n",
    "plt.plot(range(2, 100), errors_newt, 'r', label = 'newton-cotes')\n",
    "plt.legend()"
   ]
  },
  {
   "cell_type": "markdown",
   "metadata": {},
   "source": [
    "# 2: Методы оценки погрешности составных квадратурных формул"
   ]
  },
  {
   "cell_type": "markdown",
   "metadata": {},
   "source": [
    "## 2.1 \n",
    "Вычислить определенный интеграл с заданной точностью 𝜀 = 10−6 c использованием \n",
    "составной 3-х-точечной квадратурной формулы Ньютона-Кот(е)са. Погрешность \n",
    "оценивать методом Ричардсона. На каждых последовательных трех точках оценивать \n",
    "скорость сходимости по правилу Эйткена. Указать длину шага ℎ разбиения интервала \n",
    "интегрирования, при котором была достигнута требуемая точность 𝜀."
   ]
  },
  {
   "cell_type": "code",
   "execution_count": 27,
   "metadata": {},
   "outputs": [],
   "source": [
    "def Runge(method):\n",
    "    eps = 10**(-6)\n",
    "    h1 = h\n",
    "    L=2\n",
    "    h2 = h/L\n",
    "    S_h2 = method((b-a)/h2)\n",
    "    S_h1 = method((b-a)/h1)\n",
    "    R_h1 = (S_h2 - S_h1)/(1-L**(-m))\n",
    "    R_h1 = (S_h2 - S_h1)/(L**(m)-1)\n",
    "    h_opt = h*(eps*(1-L**(-m))/abs(S_h2 - S_h1))**(1/m)\n",
    "    print('h_opt=')\n",
    "    return h_opt"
   ]
  },
  {
   "cell_type": "code",
   "execution_count": 28,
   "metadata": {},
   "outputs": [],
   "source": [
    "def Richardson(method):\n",
    "    Rh = 1\n",
    "    r = 0\n",
    "    h = b - a\n",
    "    eps = 10**(-6)\n",
    "    h1 = h\n",
    "    h2 = h1/2\n",
    "    h3 = h2/2\n",
    "    m = - log((method(h3) - method(h2)) / (method(h2) - method(h1)))/log(2)\n",
    "    while Rh>eps:\n",
    "        r+=1\n",
    "        "
   ]
  },
  {
   "cell_type": "code",
   "execution_count": null,
   "metadata": {},
   "outputs": [],
   "source": []
  }
 ],
 "metadata": {
  "kernelspec": {
   "display_name": "Python 3",
   "language": "python",
   "name": "python3"
  },
  "language_info": {
   "codemirror_mode": {
    "name": "ipython",
    "version": 3
   },
   "file_extension": ".py",
   "mimetype": "text/x-python",
   "name": "python",
   "nbconvert_exporter": "python",
   "pygments_lexer": "ipython3",
   "version": "3.8.3"
  }
 },
 "nbformat": 4,
 "nbformat_minor": 4
}
