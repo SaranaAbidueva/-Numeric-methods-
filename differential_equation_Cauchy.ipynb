{
 "cells": [
  {
   "cell_type": "markdown",
   "metadata": {},
   "source": [
    "# Решение задачи Коши для СОДУ"
   ]
  },
  {
   "cell_type": "markdown",
   "metadata": {},
   "source": [
    "y1'(x) = y2(x)/30\n",
    "y2'(x) = - y1(x)/15"
   ]
  },
  {
   "cell_type": "code",
   "execution_count": 1,
   "metadata": {},
   "outputs": [],
   "source": [
    "import math\n",
    "from math import cos, sin, sqrt\n",
    "import numpy as np\n",
    "from matplotlib import pyplot as plt"
   ]
  },
  {
   "cell_type": "markdown",
   "metadata": {},
   "source": [
    "### Инициализация переменных"
   ]
  },
  {
   "cell_type": "code",
   "execution_count": 2,
   "metadata": {},
   "outputs": [],
   "source": [
    "A = 1/30\n",
    "B = 1/15\n",
    "c2 = 1/20\n",
    "x0 = 0\n",
    "xk = math.pi\n",
    "y0 = [B*xk, A*xk]\n",
    "f0 = [A*y0[1], -B*y0[0]]\n",
    "fx0 = [-A*B*y0[0], -B*A*y0[1]]\n",
    "fy0 = [A, -B]\n",
    "\n",
    "b2 = 1/(2*c2)  # 10\n",
    "a21 = 1/(2*b2)  # 1/20\n",
    "b1 = 1 - b2  # -9\n",
    "\n",
    "eps = 1e-4"
   ]
  },
  {
   "cell_type": "code",
   "execution_count": 3,
   "metadata": {},
   "outputs": [],
   "source": [
    "def calc_c1_c2(x, b1, b2):\n",
    "    A_ = [ [ cos(x / sqrt(450)), sin(x / sqrt(450)) ], [ -30/sqrt(450)*sin(x / sqrt(450)), 30/sqrt(450)*cos(x / sqrt(450)) ] ]\n",
    "    b_ = [[b1], [b2]]\n",
    "    ans = np.linalg.solve(A_,b_)\n",
    "    c1 = ans[0][0]\n",
    "    c2 = ans[1][0]\n",
    "    return (c1, c2)"
   ]
  },
  {
   "cell_type": "code",
   "execution_count": 4,
   "metadata": {},
   "outputs": [],
   "source": [
    "def general_solution(x, c1, c2):\n",
    "    y1 = c1 * cos(x/sqrt(450)) + c2 * sin(x/sqrt(450))\n",
    "    y2 = -30/sqrt(450)*c1*sin(x/sqrt(450)) + 30/sqrt(450)*c2*cos(x/sqrt(450))\n",
    "    return (y1,y2)"
   ]
  },
  {
   "cell_type": "code",
   "execution_count": 5,
   "metadata": {},
   "outputs": [],
   "source": [
    "c1, c2 = calc_c1_c2(0, xk*B, xk*A)"
   ]
  },
  {
   "cell_type": "code",
   "execution_count": 6,
   "metadata": {},
   "outputs": [
    {
     "name": "stdout",
     "output_type": "stream",
     "text": [
      "0.21807312873984425 0.059868731856656046\n"
     ]
    }
   ],
   "source": [
    "y1_true, y2_true = general_solution(math.pi, c1, c2)\n",
    "print(y1_true, y2_true)"
   ]
  },
  {
   "cell_type": "markdown",
   "metadata": {},
   "source": [
    "## 1. Расчетные схемы метода Рунге-Кутты с постоянным шагом\n",
    "двухэтапный, второго порядка. \n",
    "оценка полной погрешности по методу Рунге"
   ]
  },
  {
   "cell_type": "code",
   "execution_count": 7,
   "metadata": {},
   "outputs": [],
   "source": [
    "def step(h, y0):\n",
    "    k11 = h*A*y0[1]\n",
    "    k12 = h*(-B)*y0[0]    \n",
    "    k21 = h*A*(y0[1]+a21*k12)\n",
    "    k22 = h*(-B)*(y0[0]+a21*k11)\n",
    "    return [y0[0]+b1*k11+b2*k21, y0[1]+b1*k12+b2*k22]"
   ]
  },
  {
   "cell_type": "code",
   "execution_count": 8,
   "metadata": {},
   "outputs": [],
   "source": [
    "def step_size(s, x0, xk, eps):\n",
    "    delta = (1/max(x0,xk))**(s+1) + pow(sqrt((A*A*xk)**2 + ((-B)*B*xk)**2), s+1)\n",
    "    h0 = (eps/delta)**(1/(s+1))\n",
    "    return h0"
   ]
  },
  {
   "cell_type": "code",
   "execution_count": 9,
   "metadata": {},
   "outputs": [
    {
     "name": "stdout",
     "output_type": "stream",
     "text": [
      "h = 0.14581532104255834\n",
      "result: [0.21807317851533886, 0.05986837894044805]\n",
      "error estimation: 8.861976725175746e-08\n",
      "Absolute error h=h0:  4.9775494614934246e-08 3.529162079934922e-07\n",
      "Absolute error h=h0/2:  1.2480649957957723e-08 8.968577112911102e-08\n"
     ]
    }
   ],
   "source": [
    "# выбор начального шага\n",
    "h0 = step_size(2, x0, xk, eps)\n",
    "print('h =', h0)\n",
    "s = 2\n",
    "error = 1\n",
    "X_2_const = [x0]  # points\n",
    "Y_2_const = [0]  # errors\n",
    "while error > eps:\n",
    "    # 1. С шагом h1 = h0\n",
    "    x0 = 0\n",
    "    h = h0\n",
    "    x1 = x0\n",
    "    y1 = y0\n",
    "    c1, c2 = calc_c1_c2(x1, xk*B, xk*A)\n",
    "    while x1 + h < xk:\n",
    "        y1 = step(h, y1)\n",
    "        x1 += h\n",
    "        y_true = general_solution(x1, c1, c2)\n",
    "        X_2_const.append(x1)\n",
    "        Y_2_const.append(sqrt((y1[0]-y_true[0])**2 + (y1[1]-y_true[1])**2))\n",
    "\n",
    "        if x1 + h >= xk:\n",
    "            h1 = xk - x1\n",
    "            y1 = step(h1, y1)\n",
    "            x1 += h1\n",
    "            y_true = general_solution(x1, c1, c2)\n",
    "            X_2_const.append(x1)\n",
    "            Y_2_const.append(sqrt((y1[0]-y_true[0])**2 + (y1[1]-y_true[1])**2))\n",
    "    y_h1 = y1  # y с чертой\n",
    "    print('result:', y_h1)\n",
    "    \n",
    "    # 2. С шагом  h2 = h0/2\n",
    "    h = h0/2\n",
    "    x1 = x0\n",
    "    y1 = y0\n",
    "    while x1 + h < xk:\n",
    "        y1 = step(h, y1)\n",
    "        x1 += h\n",
    "        if x1 + h >= xk:\n",
    "            h1 = xk - x1\n",
    "            y1 = step(h1, y1)\n",
    "            x1 += h1\n",
    "    y_h2 = y1  # y с волной\n",
    "    err1 = (y_h2[0] - y_h1[0])/(2**s-1) # ~Ri0 формула (79)\n",
    "    err2 = (y_h2[1] - y_h1[1])/(2**s-1) # ~Ri1\n",
    "    error = math.sqrt(err1**2 + err2**2)\n",
    "    print('error estimation:', error)\n",
    "    print('Absolute error h=h0: ', abs(y1_true-y_h1[0]), abs(y2_true-y_h1[1]))\n",
    "    print('Absolute error h=h0/2: ', abs(y1_true-y_h2[0]), abs(y2_true-y_h2[1]))\n",
    "\n",
    "    h0 /= 2"
   ]
  },
  {
   "cell_type": "markdown",
   "metadata": {},
   "source": [
    "## 2. Расчетные схемы метода Рунге-Кутты с автоматическим выбором шага\n",
    "двухэтапный, 2-го порядка"
   ]
  },
  {
   "cell_type": "code",
   "execution_count": 10,
   "metadata": {},
   "outputs": [
    {
     "name": "stdout",
     "output_type": "stream",
     "text": [
      "h = 0.14581532104255834\n",
      "Starting point: [0.20943951023931953, 0.10471975511965977]\n",
      "2.0660910585146107e-09 2.065944305188015e-09\n",
      "1.6540436389485745e-08 1.6538124157642948e-08\n",
      "1.3250740140805728e-07 1.324715609437725e-07\n",
      "1.0628915274637864e-06 1.062355398043206e-06\n",
      "8.544860137127117e-06 8.537497300500248e-06\n",
      "result: [0.2180753213376704, 0.05985538137981536]\n",
      "Absolute error =  -2.1925978261616574e-06 1.3350476840687242e-05\n"
     ]
    }
   ],
   "source": [
    "# выбор начального шага\n",
    "h0 = step_size(2, x0, xk, eps)\n",
    "print('h =', h0)\n",
    "hi = h0/2\n",
    "s=2\n",
    "eps = 1e-5\n",
    "print('Starting point:', y0)\n",
    "(y_k1, y_k2) = (y0, y0)\n",
    "x1 = x0\n",
    "X_2_auto = [x0]\n",
    "H2 = [h0]  # значения h\n",
    "errors2 = []\n",
    "errors_ratio2 = [0]\n",
    "while x1 + hi < xk:\n",
    "    # шаг с h=hi\n",
    "    y_old = y_k1\n",
    "    y_new1 = step(hi, y_k1)\n",
    "    # два шага с h=hi/2\n",
    "    hi_1 = hi/2\n",
    "    y_new2 = step(hi_1, y_k1)\n",
    "    y_k2 = step(hi_1, y_new2)\n",
    "    y_k1 = y_new1\n",
    "    \n",
    "    # вычисление оценки погрешности\n",
    "    err1 = (y_k2[0] - y_k1[0])/(1 - pow(2, -s)) # ~Ri0\n",
    "    err2 = (y_k2[1] - y_k1[1])/(1 - pow(2, -s)) # ~Ri1\n",
    "    error = sqrt(err1**2 + err2**2)\n",
    "    if (error > eps * pow(2,s)):\n",
    "        x1 +=hi\n",
    "        hi /= 2\n",
    "    elif (error > eps and error <= eps * pow(2, s)):\n",
    "        y_k1 = y_k2\n",
    "        x1 += hi\n",
    "        hi /= 2\n",
    "    elif (error >= eps / pow(2,s+1) and error <= eps):\n",
    "        y_k1 = y_new1\n",
    "        x1 += hi\n",
    "    else:\n",
    "        y_k1 = y_new1\n",
    "        x1 += hi\n",
    "        hi = hi * 2\n",
    "    c1, c2 = calc_c1_c2(X_2_auto[-1], y_old[0], y_old[1] )\n",
    "    y_true = general_solution(x1, c1, c2)  # значение функции на предыдущем шаге, вычисленное в нынешней точке\n",
    "    true_error = sqrt((y_k1[0]-y_true[0])**2 + (y_k1[1]-y_true[1])**2)\n",
    "    X_2_auto.append(x1)\n",
    "    H2.append(hi)\n",
    "    errors_ratio2.append(true_error/error)\n",
    "    print(true_error, error)\n",
    "# последний шаг\n",
    "\n",
    "hi = xk - x1\n",
    "# шаг с h=hi\n",
    "y_old = y_k1\n",
    "y_new1 = step(hi, y_k1)\n",
    "# два шага с h=hi/2\n",
    "hi_1 = hi/2\n",
    "y_new2 = step(hi_1, y_k1)\n",
    "y_k2 = step(hi_1, y_new2)\n",
    "y_k1 = y_new1\n",
    "# вычисление оценки погрешности\n",
    "err1 = (y_k2[0] - y_k1[0])/(1 - pow(2, -s)) # ~Ri0\n",
    "err2 = (y_k2[1] - y_k1[1])/(1 - pow(2, -s)) # ~Ri1\n",
    "error = sqrt(err1**2 + err2**2)\n",
    "\n",
    "c1, c2 = calc_c1_c2(X_2_auto[-1], y_old[0], y_old[1] )\n",
    "y_true = general_solution(xk, c1, c2) \n",
    "true_error = sqrt((y_k1[0]-y_true[0])**2 + (y_k1[1]-y_true[1])**2)\n",
    "errors_ratio2.append(true_error/error)\n",
    "X_2_auto.append(xk)\n",
    "H2.append(hi)\n",
    "print('result:', y_k1)\n",
    "print(\"Absolute error = \", y1_true - y_k1[0], y2_true - y_k1[1])"
   ]
  },
  {
   "cell_type": "markdown",
   "metadata": {},
   "source": [
    "## 3.1 Расчетные схемы метода Рунге-Кутты трехэтапный, 3-го порядка\n",
    "### a)  с постоянным шагом"
   ]
  },
  {
   "cell_type": "code",
   "execution_count": 11,
   "metadata": {},
   "outputs": [],
   "source": [
    "def step3(h, y0):\n",
    "    k11 = h*A*y0[1]\n",
    "    k21 = h*(-B)*y0[0]\n",
    "    \n",
    "    k12 = h*A*(y0[1]+1/2*k21)\n",
    "    k22 = h*(-B)*(y0[0]+1/2*k11)\n",
    "\n",
    "    k31 = h*A*(y0[1]-k21+2*k22)\n",
    "    k32 = h*(-B)*(y0[0]-k11+2*k12)\n",
    "    \n",
    "    return [y0[0]+1/6*(k11+4*k12+k31), y0[1]+1/6*(k21+4*k22+k32)]"
   ]
  },
  {
   "cell_type": "code",
   "execution_count": 22,
   "metadata": {},
   "outputs": [
    {
     "name": "stdout",
     "output_type": "stream",
     "text": [
      "h = 0.17666455300966513\n",
      "result: [0.21807312798138553, 0.05986873164104211]\n",
      "error estimation: 9.843030178870802e-11\n",
      "Absolute error h=h0:  7.584587125020192e-10 2.1561393642732796e-10\n",
      "Absolute error h=h0/2:  9.582901139282285e-11 2.6776518502469315e-11\n"
     ]
    }
   ],
   "source": [
    "# выбор начального шага\n",
    "h0 = step_size(3, x0, xk, eps)\n",
    "print('h =', h0)\n",
    "s = 3\n",
    "eps = 1e-4\n",
    "error = 1\n",
    "X_3_const = [x0]\n",
    "Y_3_const = [0]\n",
    "while error > eps:\n",
    "    # 1. С шагом h1 = h0\n",
    "    x0 = 0\n",
    "    h = h0\n",
    "    x1 = x0\n",
    "    y1 = y0\n",
    "    c1, c2 = calc_c1_c2(x1, xk*B, xk*A)\n",
    "    while x1 + h < xk:\n",
    "        y1 = step3(h, y1)\n",
    "        x1 += h\n",
    "        y_true = general_solution(x1, c1, c2)\n",
    "        X_3_const.append(x1)\n",
    "        Y_3_const.append(sqrt((y1[0]-y_true[0])**2 + (y1[1]-y_true[1])**2))\n",
    "        #print(y_true[0]-y1[0], y_true[1]-y1[1])\n",
    "        if x1 + h >= xk:\n",
    "            h1 = xk - x1\n",
    "            y1 = step3(h1, y1)\n",
    "            x1 += h1\n",
    "            y_true = general_solution(x1, c1, c2)\n",
    "            X_3_const.append(x1)\n",
    "            Y_3_const.append(sqrt((y1[0]-y_true[0])**2 + (y1[1]-y_true[1])**2))\n",
    "    y_h1 = y1  # y с чертой\n",
    "    print('result:', y_h1)\n",
    "    # 2. С шагом  h2 = h0/2\n",
    "    h = h0/2\n",
    "    x1 = x0\n",
    "    y1 = y0\n",
    "    while x1 + h < xk:\n",
    "        y1 = step3(h, y1)\n",
    "        x1 += h\n",
    "        if x1 + h >= xk:\n",
    "            h1 = xk - x1\n",
    "            y1 = step3(h1, y1)\n",
    "            x1 += h1\n",
    "    y_h2 = y1  # y с волной\n",
    "    err1 = (y_h2[0] - y_h1[0])/(2**s-1) # ~Ri0 формула (79)\n",
    "    err2 = (y_h2[1] - y_h1[1])/(2**s-1) # ~Ri1\n",
    "    error = math.sqrt(err1**2 + err2**2)\n",
    "    print('error estimation:', error)\n",
    "    print('Absolute error h=h0: ', abs(y1_true-y_h1[0]), abs(y2_true-y_h1[1]))\n",
    "    print('Absolute error h=h0/2: ', abs(y1_true-y_h2[0]), abs(y2_true-y_h2[1]))\n",
    "\n",
    "    h0 /= 2"
   ]
  },
  {
   "cell_type": "markdown",
   "metadata": {},
   "source": [
    "### б)  с автоматическим выбором шага"
   ]
  },
  {
   "cell_type": "code",
   "execution_count": 13,
   "metadata": {},
   "outputs": [],
   "source": [
    "s = 3\n",
    "tol1 = 1e-5 # макс допустимая локальная погрешность (tolerance)\n",
    "tol2 = tol1/pow(2,s)\n",
    "tol3 = tol2/pow(2,s+1)"
   ]
  },
  {
   "cell_type": "code",
   "execution_count": 14,
   "metadata": {},
   "outputs": [
    {
     "name": "stdout",
     "output_type": "stream",
     "text": [
      "h = 0.3141589371008173\n",
      "Starting point: [0.20943951023931953, 0.10471975511965977]\n",
      "result: [0.21807297547469826, 0.059868679904500885]\n",
      "error evaluation =  3.698893794243043e-08\n",
      "Absolute error =  1.5326514599123264e-07 5.1952155161183455e-08\n"
     ]
    }
   ],
   "source": [
    "# выбор начального шага\n",
    "h0 = step_size(3, x0, xk, eps)\n",
    "print('h =', h0)\n",
    "s = 3\n",
    "hi = h0\n",
    "print('Starting point:', y0)\n",
    "(y_k1, y_k2) = (y0, y0)\n",
    "x1 = x0\n",
    "X_3_auto = [x0]\n",
    "H3 = [h0]\n",
    "errors_ratio3 = [0]\n",
    "eps = 1e-5\n",
    "while x1 + hi < xk:\n",
    "    # шаг с h=hi\n",
    "    y_old = y_k1\n",
    "    y_new1 = step3(hi, y_k1)\n",
    "    \n",
    "    # два шага с h=hi/2\n",
    "    hi_1 = hi/2\n",
    "    y_new2 = step3(hi_1, y_k1)\n",
    "    y_k2 = step3(hi_1, y_new2)\n",
    "    \n",
    "    y_k1 = y_new1\n",
    "    \n",
    "    err1 = (y_k2[0] - y_k1[0])/(1 - pow(2, -s)) # ~Ri0\n",
    "    err2 = (y_k2[1] - y_k1[1])/(1 - pow(2, -s)) # ~Ri1\n",
    "    error = sqrt(err1**2 + err2**2)\n",
    "    if (error > eps * pow(2,s)):\n",
    "        x1 +=hi\n",
    "        hi /= 2\n",
    "        y_k1 = y_old\n",
    "        y_k2 = y_old\n",
    "    elif (error > eps and error <= eps * pow(2, s)):\n",
    "        y_k1 = y_k2\n",
    "        x1 += hi\n",
    "        hi /= 2\n",
    "    elif (error >= eps / pow(2,s+1) and error <= eps):\n",
    "        y_k1 = y_new1\n",
    "        x1 += hi\n",
    "    else:\n",
    "        y_k1 = y_new1\n",
    "        x1 += hi\n",
    "        hi = hi * 2\n",
    "    c1, c2 = calc_c1_c2(X_3_auto[-1], y_old[0], y_old[1] )\n",
    "    y_true = general_solution(x1, c1, c2)  # значение функции на предыдущем шаге, вычисленное в нынешней точке\n",
    "    true_error = sqrt((y_k1[0]-y_true[0])**2 + (y_k1[1]-y_true[1])**2)  # истинная локальная погрешность \n",
    "    X_3_auto.append(x1)\n",
    "    H3.append(hi)\n",
    "    errors_ratio3.append(true_error/error)\n",
    "\n",
    "# последний шаг\n",
    "\n",
    "hi = xk - x1\n",
    "# шаг с h=hi\n",
    "y_old = y_k1\n",
    "y_new1 = step3(hi, y_k1)\n",
    "# два шага с h=hi/2\n",
    "hi_1 = hi/2\n",
    "y_new2 = step3(hi_1, y_k1)\n",
    "y_k2 = step3(hi_1, y_new2)\n",
    "y_k1 = y_new1\n",
    "# вычисление оценки погрешности\n",
    "err1 = (y_k2[0] - y_k1[0])/(1 - pow(2, -s)) # ~Ri0\n",
    "err2 = (y_k2[1] - y_k1[1])/(1 - pow(2, -s)) # ~Ri1\n",
    "error = sqrt(err1**2 + err2**2)\n",
    "\n",
    "c1, c2 = calc_c1_c2(X_3_auto[-1], y_old[0], y_old[1] )\n",
    "y_true = general_solution(xk, c1, c2) \n",
    "true_error = sqrt((y_k1[0]-y_true[0])**2 + (y_k1[1]-y_true[1])**2)\n",
    "errors_ratio3.append(true_error/error)\n",
    "X_3_auto.append(xk)\n",
    "H3.append(hi)\n",
    "\n",
    "print('result:', y_k1)\n",
    "print('error evaluation = ', error)\n",
    "print(\"Absolute error = \", y1_true - y_k1[0], y2_true - y_k1[1])"
   ]
  },
  {
   "cell_type": "markdown",
   "metadata": {},
   "source": [
    "## 3.2 Графики зависимости истинной полной погрешности от значения независимой переменной x для двух и трехэтапных ЯМРК"
   ]
  },
  {
   "cell_type": "code",
   "execution_count": 15,
   "metadata": {},
   "outputs": [
    {
     "data": {
      "image/png": "[encoded data removed]",
      "text/plain": [
       "<Figure size 432x288 with 1 Axes>"
      ]
     },
     "metadata": {
      "needs_background": "light"
     },
     "output_type": "display_data"
    }
   ],
   "source": [
    "plt.title('истинная полная погрешность')\n",
    "plt.plot(X_2_const, Y_2_const, c='blue', ls = '--', label = 'двухэтапный')\n",
    "plt.scatter(X_2_const, Y_2_const, color='blue')\n",
    "plt.plot(X_3_const, Y_3_const, c='red', ls = '--', label = 'трехэтапный')\n",
    "plt.scatter(X_3_const, Y_3_const, color='red')\n",
    "\n",
    "plt.xlabel('x')\n",
    "plt.ylabel('error')\n",
    "plt.legend()\n",
    "plt.grid()"
   ]
  },
  {
   "cell_type": "markdown",
   "metadata": {},
   "source": [
    "## 3.3.1 графики зависимости величины шага интегрирования от значения независимой переменной 𝑥"
   ]
  },
  {
   "cell_type": "code",
   "execution_count": 16,
   "metadata": {},
   "outputs": [
    {
     "data": {
      "image/png": "[encoded data removed]",
      "text/plain": [
       "<Figure size 432x288 with 1 Axes>"
      ]
     },
     "metadata": {
      "needs_background": "light"
     },
     "output_type": "display_data"
    }
   ],
   "source": [
    "plt.title('шаг интегрирования')\n",
    "plt.plot(X_2_auto, H2, c='blue', ls = '--', label = 'двухэтапный')\n",
    "plt.scatter(X_2_auto, H2, color='red')\n",
    "plt.plot(X_3_auto, H3, c='purple', ls = '--', label = 'трехэтапный')\n",
    "plt.scatter(X_3_auto, H3, color='purple')\n",
    "plt.xlabel('x')\n",
    "plt.ylabel('h')\n",
    "plt.legend()\n",
    "plt.grid()"
   ]
  },
  {
   "cell_type": "markdown",
   "metadata": {},
   "source": [
    "## 3.3.2 графики зависимости отношения истинной локальной погрешности к полученной  оценке локальной погрешности от значения независимой переменной x"
   ]
  },
  {
   "cell_type": "code",
   "execution_count": 17,
   "metadata": {},
   "outputs": [
    {
     "data": {
      "image/png": "[encoded data removed]",
      "text/plain": [
       "<Figure size 432x288 with 1 Axes>"
      ]
     },
     "metadata": {
      "needs_background": "light"
     },
     "output_type": "display_data"
    }
   ],
   "source": [
    "plt.title('отношение погрешности к оценке')\n",
    "plt.plot(X_2_auto, errors_ratio2, c='red', ls = '--', label = 'двухэтапный')\n",
    "plt.scatter(X_2_auto, errors_ratio2, color='red')\n",
    "plt.plot(X_3_auto, errors_ratio3, c='blue', ls = '--', label = 'трехэтапный')\n",
    "plt.scatter(X_3_auto, errors_ratio3, color='blue')\n",
    "plt.xlabel('$x$')\n",
    "plt.ylabel('error')\n",
    "plt.legend()\n",
    "plt.grid()"
   ]
  },
  {
   "cell_type": "markdown",
   "metadata": {},
   "source": [
    "## 3.3.3 графики зависимости количества вычислений правой части системы от заданной точности 𝜀 (например, 𝜀 = 10−1, 10−2, 10−3, 10−4, 10−5 )"
   ]
  },
  {
   "cell_type": "markdown",
   "metadata": {},
   "source": [
    "### а) двухэтапный порядка 2 "
   ]
  },
  {
   "cell_type": "code",
   "execution_count": 18,
   "metadata": {},
   "outputs": [
    {
     "name": "stdout",
     "output_type": "stream",
     "text": [
      "h = 1.4581532104255834\n",
      "Starting point: [0.20943951023931953, 0.10471975511965977]\n",
      "result: [0.21807710307544417, 0.05984550602182667]\n",
      "Absolute error =  -3.974335599926659e-06 2.3225834829374015e-05\n",
      "h = 0.6768147659208013\n",
      "Starting point: [0.20943951023931953, 0.10471975511965977]\n",
      "result: [0.2180760879567535, 0.059851177360859084]\n",
      "Absolute error =  -2.95921690926515e-06 1.7554495796962e-05\n",
      "h = 0.3141495859922238\n",
      "Starting point: [0.20943951023931953, 0.10471975511965977]\n",
      "result: [0.2180755698594946, 0.05985404005129859]\n",
      "Absolute error =  -2.4411196503648647e-06 1.469180535745851e-05\n",
      "h = 0.14581532104255834\n",
      "Starting point: [0.20943951023931953, 0.10471975511965977]\n",
      "result: [0.2180753213376704, 0.05985538137981536]\n",
      "Absolute error =  -2.1925978261616574e-06 1.3350476840687242e-05\n",
      "h = 0.06768147659208014\n",
      "Starting point: [0.20943951023931953, 0.10471975511965977]\n",
      "result: [0.21807529795489908, 0.05985547755934875]\n",
      "Absolute error =  -2.1692150548313638e-06 1.3254297307294105e-05\n"
     ]
    }
   ],
   "source": [
    "# выбор начального шага\n",
    "calc_count2 = []\n",
    "for i in range(1, 6):\n",
    "    eps = 10**(-i)\n",
    "    cnt = 0\n",
    "    h0 = step_size(2, x0, xk, eps)\n",
    "    print('h =', h0)\n",
    "    hi = h0/2\n",
    "    s=2\n",
    "    print('Starting point:', y0)\n",
    "    (y_k1, y_k2) = (y0, y0)\n",
    "    x1 = x0\n",
    "    \n",
    "    while x1 + hi < xk:\n",
    "        # шаг с h=hi\n",
    "        y_old = y_k1\n",
    "        y_new1 = step(hi, y_k1)\n",
    "        # два шага с h=hi/2\n",
    "        hi_1 = hi/2\n",
    "        y_new2 = step(hi_1, y_k1)\n",
    "        y_k2 = step(hi_1, y_new2)\n",
    "        y_k1 = y_new1\n",
    "    \n",
    "        cnt+=3\n",
    "        # вычисление оценки погрешности\n",
    "        err1 = (y_k2[0] - y_k1[0])/(1 - pow(2, -s)) # ~Ri0\n",
    "        err2 = (y_k2[1] - y_k1[1])/(1 - pow(2, -s)) # ~Ri1\n",
    "        error = sqrt(err1**2 + err2**2)\n",
    "        if (error > eps * pow(2,s)):\n",
    "            x1 +=hi\n",
    "            hi /= 2\n",
    "        elif (error > eps and error <= eps * pow(2, s)):\n",
    "            y_k1 = y_k2\n",
    "            x1 += hi\n",
    "            hi /= 2\n",
    "        elif (error >= eps / pow(2,s+1) and error <= eps):\n",
    "            y_k1 = y_new1\n",
    "            x1 += hi\n",
    "        else:\n",
    "            y_k1 = y_new1\n",
    "            x1 += hi\n",
    "            hi = hi * 2\n",
    "\n",
    "    # последний шаг\n",
    "    hi = xk - x1\n",
    "    res = step(hi, y_k1)\n",
    "    \n",
    "    cnt += 1\n",
    "    calc_count2.append(cnt)\n",
    "    print('result:', res)\n",
    "    print(\"Absolute error = \", y1_true - res[0], y2_true - res[1])"
   ]
  },
  {
   "cell_type": "markdown",
   "metadata": {},
   "source": [
    "### б) трехэтапный порядка 3"
   ]
  },
  {
   "cell_type": "code",
   "execution_count": 19,
   "metadata": {},
   "outputs": [
    {
     "name": "stdout",
     "output_type": "stream",
     "text": [
      "h = 1.7666455300966513\n",
      "result: [0.21807266857909482, 0.05986856142081415]\n",
      "Absolute error =  4.6016074942145657e-07 1.7043584189802008e-07\n",
      "h = 0.9934577885361576\n",
      "result: [0.21807275364639764, 0.059868595924785314]\n",
      "Absolute error =  3.7509344660846544e-07 1.35931870731687e-07\n",
      "h = 0.5586623693260965\n",
      "result: [0.21807296682263308, 0.05986867711067993]\n",
      "Absolute error =  1.6191721116665114e-07 5.4745976113546035e-08\n",
      "h = 0.3141589371008173\n",
      "result: [0.21807299361620297, 0.05986868598896588]\n",
      "Absolute error =  1.3512364127610255e-07 4.586769016684533e-08\n",
      "h = 0.17666455300966513\n",
      "result: [0.21807293877254832, 0.059868665230019755]\n",
      "Absolute error =  1.8996729592157813e-07 6.662663629142251e-08\n"
     ]
    }
   ],
   "source": [
    "# выбор начального шага\n",
    "calc_count3 = []\n",
    "for i in range(1, 6):\n",
    "    eps = 10**(-i)\n",
    "    cnt = 0\n",
    "    h0 = step_size(3, x0, xk, eps)\n",
    "    print('h =', h0)\n",
    "    hi = h0/2\n",
    "    s=3\n",
    "    (y_k1, y_k2) = (y0, y0)\n",
    "    x1 = x0\n",
    "    \n",
    "    while x1 + hi < xk:\n",
    "        # шаг с h=hi\n",
    "        y_old = y_k1\n",
    "        y_new1 = step3(hi, y_k1)\n",
    "        # два шага с h=hi/2\n",
    "        hi_1 = hi/2\n",
    "        y_new2 = step3(hi_1, y_k1)\n",
    "        y_k2 = step3(hi_1, y_new2)\n",
    "        y_k1 = y_new1\n",
    "    \n",
    "        cnt+=3\n",
    "        # вычисление оценки погрешности\n",
    "        err1 = (y_k2[0] - y_k1[0])/(1 - pow(2, -s)) # ~Ri0\n",
    "        err2 = (y_k2[1] - y_k1[1])/(1 - pow(2, -s)) # ~Ri1\n",
    "        error = sqrt(err1**2 + err2**2)\n",
    "        if (error > eps * pow(2,s)):\n",
    "            x1 +=hi\n",
    "            hi /= 2\n",
    "        elif (error > eps and error <= eps * pow(2, s)):\n",
    "            y_k1 = y_k2\n",
    "            x1 += hi\n",
    "            hi /= 2\n",
    "        elif (error >= eps / pow(2,s+1) and error <= eps):\n",
    "            y_k1 = y_new1\n",
    "            x1 += hi\n",
    "        else:\n",
    "            y_k1 = y_new1\n",
    "            x1 += hi\n",
    "            hi = hi * 2\n",
    "\n",
    "    # последний шаг\n",
    "    hi = xk - x1\n",
    "    res = step3(hi, y_k1)\n",
    "    \n",
    "    cnt += 1\n",
    "    calc_count3.append(cnt)\n",
    "    print('result:', res)\n",
    "    print(\"Absolute error = \", y1_true - res[0], y2_true - res[1])"
   ]
  },
  {
   "cell_type": "code",
   "execution_count": 20,
   "metadata": {},
   "outputs": [
    {
     "data": {
      "image/png": "[encoded data removed]",
      "text/plain": [
       "<Figure size 432x288 with 1 Axes>"
      ]
     },
     "metadata": {
      "needs_background": "light"
     },
     "output_type": "display_data"
    }
   ],
   "source": [
    "plt.title('количество вычислений правой части')\n",
    "plt.plot([0.1, 0.01, 0.001, 0.0001, 0.00001], calc_count2, c='red', ls = '--', label = 'двухэтапный')\n",
    "plt.scatter([0.1, 0.01, 0.001, 0.0001, 0.00001], calc_count2, color='red')\n",
    "plt.plot([0.1, 0.01, 0.001, 0.0001, 0.00001], calc_count3, c='blue', ls = '--', label = 'трехэтапный')\n",
    "plt.scatter([0.1, 0.01, 0.001, 0.0001, 0.00001], calc_count3, color='blue')\n",
    "plt.xlabel('$epsilon$')\n",
    "plt.ylabel('count')\n",
    "plt.legend()\n",
    "plt.grid()"
   ]
  },
  {
   "cell_type": "code",
   "execution_count": 21,
   "metadata": {},
   "outputs": [
    {
     "name": "stdout",
     "output_type": "stream",
     "text": [
      "двухэтапный [7, 10, 13, 16, 19]\n",
      "трехэтапный [7, 7, 10, 13, 16]\n"
     ]
    }
   ],
   "source": [
    "print('двухэтапный', calc_count2)\n",
    "print('трехэтапный', calc_count3)"
   ]
  }
 ],
 "metadata": {
  "kernelspec": {
   "display_name": "Python 3",
   "language": "python",
   "name": "python3"
  },
  "language_info": {
   "codemirror_mode": {
    "name": "ipython",
    "version": 3
   },
   "file_extension": ".py",
   "mimetype": "text/x-python",
   "name": "python",
   "nbconvert_exporter": "python",
   "pygments_lexer": "ipython3",
   "version": "3.8.3"
  }
 },
 "nbformat": 4,
 "nbformat_minor": 4
}
