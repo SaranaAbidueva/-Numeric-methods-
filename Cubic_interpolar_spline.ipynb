{
 "cells": [
  {
   "cell_type": "markdown",
   "metadata": {},
   "source": [
    "# Кубический сплайн 32"
   ]
  },
  {
   "cell_type": "markdown",
   "metadata": {},
   "source": [
    "### Импорт библиотек"
   ]
  },
  {
   "cell_type": "code",
   "execution_count": 1,
   "metadata": {},
   "outputs": [],
   "source": [
    "import sympy as sym  # библиотека символьных вычислений\n",
    "import numpy as np # библиотека для работы с массивами\n",
    "import math  # для операции факториала, числа pi\n",
    "import matplotlib.pyplot as plt  # для построения графиков\n",
    "import pandas as pd  # для построения таблицы\n",
    "from IPython.display import display  # для вывода таблицы"
   ]
  },
  {
   "cell_type": "markdown",
   "metadata": {},
   "source": [
    "### Инициализация символьных переменных"
   ]
  },
  {
   "cell_type": "code",
   "execution_count": 2,
   "metadata": {},
   "outputs": [],
   "source": [
    "x = sym.symbols('x')  # инициализировали символьные переменные\n",
    "f = sym.Function('f')(x)  # инициализировали символьную функцию\n",
    "# N = 1 - номер в списке группы\n",
    "f = x - sym.sin(x) - 0.25  # определили функцию соответственно номеру в списке группы\n",
    "a = 0\n",
    "b = 10  # [a,b] - выбранный интервал интерполирования"
   ]
  },
  {
   "cell_type": "markdown",
   "metadata": {},
   "source": [
    "### Определим функцию решения СЛАУ методом Гаусса\n",
    "#### понадобится ниже\n",
    "метод Гаусса устойчив для матрицы H, т.к. она трехдиагональная, диагонально доминирующая (симметрическая и положительно определенная)."
   ]
  },
  {
   "cell_type": "code",
   "execution_count": 3,
   "metadata": {},
   "outputs": [],
   "source": [
    "def Gauss(A, b): # A - матрица (n,n), b - вектор (n,1)\n",
    "    n=len(b)\n",
    "    #прямой ход метода Гаусса\n",
    "    for k in range(n): # строки\n",
    "        # поиск максимума по столбцу\n",
    "        max_index=0 # индекс максимума к-го столбца\n",
    "        maxk=0  # максимум к-го столбца\n",
    "        for i in range(k, n): # столбцы\n",
    "            if (maxk<abs(A[i][k])):\n",
    "                    max_index=i\n",
    "                    maxk=abs(A[i][k])\n",
    "        #нашли индекс максимума, теперь меняем строки\n",
    "        Cb=b[k]\n",
    "        b[k]=b[max_index]\n",
    "        b[max_index]=Cb\n",
    "        \n",
    "        C=A[k]\n",
    "        A[k]=A[max_index]\n",
    "        A[max_index]=C  \n",
    "        #\n",
    "        # нормируем строку\n",
    "        b[k]=b[k]/A[k][k]\n",
    "        A[k]=[A[k][x]/A[k][k] for x in range(n)] \n",
    "        # преобразуем последующие n-k строк\n",
    "        for m in range(k+1, n):\n",
    "            b[m]=b[m]-b[k]*A[m][k]\n",
    "            A[m]=[A[m][x]-A[k][x]*A[m][k] for x in range(n)]            \n",
    "        #\n",
    "    #print('A=', np.array(A).round(4))\n",
    "    #print('b=', np.array(b).round(4))\n",
    "    \n",
    "    # обратный ход метода Гаусса\n",
    "    X=[0]*n # вектор неизвестных\n",
    "    i=n\n",
    "    while (i!=0):\n",
    "        i-=1\n",
    "        X[i]=b[i]\n",
    "        for j in range(n-i-1):\n",
    "            X[i]=X[i]-A[i][n-1-j]*X[i+1]\n",
    "    return X"
   ]
  },
  {
   "cell_type": "markdown",
   "metadata": {},
   "source": [
    "# Сплайн S_32\n",
    "## На равноотстоящих узлах"
   ]
  },
  {
   "cell_type": "markdown",
   "metadata": {},
   "source": [
    "функция возвращает вектор a=(a_11,a_10,a_21,a_20,...,a_n-1.1,a_n0)"
   ]
  },
  {
   "cell_type": "code",
   "execution_count": 17,
   "metadata": {},
   "outputs": [],
   "source": [
    "def S_32(n, f):\n",
    "    knots = [] # равноотстоящие узлы интерполирования\n",
    "    for i in range(n):\n",
    "            xi = a + ((b-a)/(n-1))*i\n",
    "            knots.append(xi)  \n",
    "    #knots = list((b-a)/(n+1)*(i+1) for i in range(n))\n",
    "    h = (b-a)/n  # т.к. равноотстоящие узлы\n",
    "    \n",
    "    # строим матрицу H, векторы y_1, y_2\n",
    "    # где y_1 - вектор первых производных, y_2 - вектор вторых производных на отрезках интерполирования\n",
    "    H = np.eye(n-2)*4*h\n",
    "    for i in range(1, n-2):\n",
    "        H[i][i-1] = h  # заполнили H, (h одно и то же) по формуле 5.2.24\n",
    "        H[i-1][i] = h\n",
    "    # заполним вектор гамма по формуле 5.2.23\n",
    "    gamma = np.zeros(n-2)\n",
    "    for i in range(1, n-1):\n",
    "        gamma[i-1] = 6/h*(f.subs(x,knots[i+1])-2*f.subs(x,knots[i])+f.subs(x,knots[i-1]))\n",
    "    # вычисляем вектор у_2\n",
    "    y_2 = Gauss(H, gamma)  # решаем СЛАУ H*y_2=gamma методом Гаусса\n",
    "    y_2 = np.append(0, y_2)  # y_2[0] = y_2[n-1] = 0 по условию\n",
    "    y_2 = np.append(y_2, 0)\n",
    "    # вычисляем вектор y_1 по формуле 5.2.25\n",
    "    y_1 = np.zeros(n-1)\n",
    "    for i in range(n-1):\n",
    "        y_1[i] = (f.subs(x,knots[i+1])-f.subs(x,knots[i]))/h - y_2[i+1]*h/6 - y_2[i]*h/3\n",
    "    # C - массив коэффициентов полиномов \n",
    "    C = np.zeros(4*(n-1))\n",
    "    for i in range(n-1):\n",
    "        Ci = sym.Function('Ci')(x)\n",
    "        # Ci - полином на каждом отрезке разбиения, вычисляем по формуле 5.2.26\n",
    "        Ci = (f.subs(x, knots[i]) + y_1[i]*(x-knots[i]) + y_2[i]*(x-knots[i])**2/2 + (y_2[i+1]-y_2[i])*(x-knots[i])**3/(6*h))\n",
    "        coeffs = sym.poly(Ci).coeffs()  # вычленили коэффициенты полинома Ci\n",
    "        for j in range(4):\n",
    "            C[4*i+j] = coeffs[j]  # записали коэффициенты полинома Ci в общий вектор коэффициентов\n",
    "    return C"
   ]
  },
  {
   "cell_type": "code",
   "execution_count": 18,
   "metadata": {},
   "outputs": [
    {
     "ename": "IndexError",
     "evalue": "list index out of range",
     "output_type": "error",
     "traceback": [
      "\u001b[1;31m---------------------------------------------------------------------------\u001b[0m",
      "\u001b[1;31mIndexError\u001b[0m                                Traceback (most recent call last)",
      "\u001b[1;32m<ipython-input-18-f0db8ac62b30>\u001b[0m in \u001b[0;36m<module>\u001b[1;34m\u001b[0m\n\u001b[1;32m----> 1\u001b[1;33m \u001b[0mS_32\u001b[0m\u001b[1;33m(\u001b[0m\u001b[1;36m5\u001b[0m\u001b[1;33m,\u001b[0m \u001b[0mf\u001b[0m\u001b[1;33m)\u001b[0m\u001b[1;33m\u001b[0m\u001b[1;33m\u001b[0m\u001b[0m\n\u001b[0m",
      "\u001b[1;32m<ipython-input-17-d9904e53a7e2>\u001b[0m in \u001b[0;36mS_32\u001b[1;34m(n, f)\u001b[0m\n\u001b[0;32m     33\u001b[0m         \u001b[0mcoeffs\u001b[0m \u001b[1;33m=\u001b[0m \u001b[0msym\u001b[0m\u001b[1;33m.\u001b[0m\u001b[0mpoly\u001b[0m\u001b[1;33m(\u001b[0m\u001b[0mCi\u001b[0m\u001b[1;33m)\u001b[0m\u001b[1;33m.\u001b[0m\u001b[0mcoeffs\u001b[0m\u001b[1;33m(\u001b[0m\u001b[1;33m)\u001b[0m  \u001b[1;31m# вычленили коэффициенты полинома Ci\u001b[0m\u001b[1;33m\u001b[0m\u001b[1;33m\u001b[0m\u001b[0m\n\u001b[0;32m     34\u001b[0m         \u001b[1;32mfor\u001b[0m \u001b[0mj\u001b[0m \u001b[1;32min\u001b[0m \u001b[0mrange\u001b[0m\u001b[1;33m(\u001b[0m\u001b[1;36m4\u001b[0m\u001b[1;33m)\u001b[0m\u001b[1;33m:\u001b[0m\u001b[1;33m\u001b[0m\u001b[1;33m\u001b[0m\u001b[0m\n\u001b[1;32m---> 35\u001b[1;33m             \u001b[0mC\u001b[0m\u001b[1;33m[\u001b[0m\u001b[1;36m4\u001b[0m\u001b[1;33m*\u001b[0m\u001b[0mi\u001b[0m\u001b[1;33m+\u001b[0m\u001b[0mj\u001b[0m\u001b[1;33m]\u001b[0m \u001b[1;33m=\u001b[0m \u001b[0mcoeffs\u001b[0m\u001b[1;33m[\u001b[0m\u001b[0mj\u001b[0m\u001b[1;33m]\u001b[0m  \u001b[1;31m# записали коэффициенты полинома Ci в общий вектор коэффициентов\u001b[0m\u001b[1;33m\u001b[0m\u001b[1;33m\u001b[0m\u001b[0m\n\u001b[0m\u001b[0;32m     36\u001b[0m     \u001b[1;32mreturn\u001b[0m \u001b[0mC\u001b[0m\u001b[1;33m\u001b[0m\u001b[1;33m\u001b[0m\u001b[0m\n",
      "\u001b[1;31mIndexError\u001b[0m: list index out of range"
     ]
    }
   ],
   "source": [
    "S_32(5, f)"
   ]
  },
  {
   "cell_type": "markdown",
   "metadata": {},
   "source": [
    "## Функция поиска максимума отклонения\n",
    "### на равноостоящих узлах"
   ]
  },
  {
   "cell_type": "code",
   "execution_count": 6,
   "metadata": {},
   "outputs": [],
   "source": [
    "def RS(n, f):\n",
    "    knots = [] # равноотстоящие узлы интерполирования\n",
    "    for i in range(n):\n",
    "            xi = a + ((b-a)/(n-1))*i\n",
    "            knots.append(xi)\n",
    "    for i in range(n):\n",
    "            xi = a + ((b-a)/(n-1))*i\n",
    "            knots.append(xi)\n",
    "    ans = S_32(n, f)  # сплайн 3,2, вектор коэффициентов\n",
    "    m = 10*n  # количество точек разбиения\n",
    "    r = []  # массив максимумов отклонений сплайна на отрезках [x_j,x_j+1]\n",
    "    for j in range(n-1):\n",
    "        T = list((knots[j+1]-knots[j])/(m+1)*(i+1)+knots[j] for i in range(m))  # массив точек разбиения [a,b], в которых определяется отклонение\n",
    "        Snj= ans[4*j]*x**3 + ans[4*j+1]*x**2+ans[4*j+2]*x+ans[4*j+3]  # полином на отрезке [x_j,x_j+1]\n",
    "        rj = [abs(f.subs(x, ti) - Snj.subs(x, ti)) for ti in T]  # массив разностей на отрезке [x_j,x_j+1]\n",
    "        r.append(max(rj))  # присоединили максимальный на отрезке\n",
    "    return max(r)"
   ]
  },
  {
   "cell_type": "markdown",
   "metadata": {},
   "source": [
    "## Сплайн S_32 на оптимальных узлах"
   ]
  },
  {
   "cell_type": "markdown",
   "metadata": {},
   "source": [
    "здесь hi на каждом отрезке разное"
   ]
  },
  {
   "cell_type": "code",
   "execution_count": 7,
   "metadata": {},
   "outputs": [],
   "source": [
    "def S_32opt(n, f):\n",
    "    knots = list(((b-a)*sym.cos((2*i+1)*math.pi/(2*(n+1)))+b+a)/2 for i in range(n)) # оптимальные узлы интерполирования\n",
    "    knots.sort()  # отсортировала, т.к. для вычисления h надо чтобы узлы были последовательно в массиве\n",
    "    h = [knots[i]-knots[i-1] for i in range(1, n)] # вектор разностей (расстояний) между узлами\n",
    "    \n",
    "    # строим матрицу H, векторы у_1, y_2\n",
    "    # где y_1 - вектор первых производных, y_2 - вектор вторых производных \n",
    "    H = np.eye(n-2)  # пока задали единичную матрицу\n",
    "    for i in range(1, n-2):\n",
    "        H[i-1][i-1]=2*(h[i-1]+h[i])  # заполняем H по формуле 5.2.24\n",
    "        H[i][i-1] = h[i]\n",
    "        H[i-1][i] = h[i]\n",
    "    H[n-3][n-3] = 2*(h[n-3]+h[n-2])\n",
    "    # заполним вектор гамма по формуле 5.2.23\n",
    "    gamma = np.zeros(n-2)\n",
    "    for i in range(1, n-1):\n",
    "        gamma[i-1] = 6*((f.subs(x,knots[i+1])-f.subs(x,knots[i]))/h[i] - (f.subs(x,knots[i])-f.subs(x,knots[i-1]))/h[i-1])\n",
    "    # вычислим вектор y_2\n",
    "    y_2 = Gauss(H, gamma)  # решаем СЛАУ H*y_2=gamma методом Гаусса\n",
    "    y_2 = np.append(0, y_2)  # y_2[0] = y_2[n-1] = 0 по условию\n",
    "    y_2 = np.append(y_2, 0)\n",
    "    # вычислим вектор y_1 по формуле 5.2.25\n",
    "    y_1 = np.zeros(n-1)\n",
    "    for i in range(n-1):\n",
    "        y_1[i] = (f.subs(x,knots[i+1])-f.subs(x,knots[i]))/h[i] - y_2[i+1]*h[i]/6 - y_2[i]*h[i]/3\n",
    "    # C - массив коэффициентов полиномов \n",
    "    C = np.zeros(4*(n-1))\n",
    "    for i in range(n-1):\n",
    "        # Ci - полином на каждом отрезке разбиения, вычисляем по формуле 5.2.26\n",
    "        Ci = sym.Function('Ci')(x)\n",
    "        Ci = (f.subs(x, knots[i]) + y_1[i]*(x-knots[i]) + y_2[i]*(x-knots[i])**2/2 + (y_2[i+1]-y_2[i])*(x-knots[i])**3/(6*h[i]))\n",
    "        coeffs = sym.poly(Ci).coeffs()  # вычленили коэффициенты полинома Ci\n",
    "        for j in range(4):\n",
    "            C[4*i+j] = coeffs[j]  # записали коэффициенты полинома Ci в общий вектор коэффициентов\n",
    "    return C"
   ]
  },
  {
   "cell_type": "code",
   "execution_count": 8,
   "metadata": {},
   "outputs": [
    {
     "data": {
      "text/plain": [
       "array([ 2.23272511e-01, -3.65028706e-01,  4.92524645e-01, -4.19559566e-01,\n",
       "       -1.05994790e-01,  1.08157369e+00, -1.62597552e+00,  6.14597654e-01,\n",
       "       -1.65637195e-01,  1.57005348e+00, -2.95954855e+00,  1.82817023e+00,\n",
       "        4.99292754e-02, -1.15761319e+00,  8.54527942e+00, -1.43469570e+01,\n",
       "        1.73464026e-01, -3.30051084e+00,  2.09358829e+01, -3.82284919e+01,\n",
       "       -9.99006612e-03,  7.00596770e-01, -8.15197934e+00,  3.22606337e+01,\n",
       "       -1.84465649e-01,  5.16832353e+00, -4.62864126e+01,  1.40759883e+02,\n",
       "        4.41742191e-02, -1.31706870e+00,  1.50331826e+01, -5.24997078e+01])"
      ]
     },
     "execution_count": 8,
     "metadata": {},
     "output_type": "execute_result"
    }
   ],
   "source": [
    "S_32opt(9, f)"
   ]
  },
  {
   "cell_type": "markdown",
   "metadata": {},
   "source": [
    "### Функция поиска максимума отклонения на оптимальных узлах"
   ]
  },
  {
   "cell_type": "code",
   "execution_count": 9,
   "metadata": {},
   "outputs": [],
   "source": [
    "def RSopt(n, f):\n",
    "    knots = list(((b-a)*sym.cos((2*i+1)*math.pi/(2*(n+1)))+b+a)/2 for i in range(n)) # оптимальные узлы интерполирования\n",
    "    knots.sort()\n",
    "    ans = S_32opt(n, f) \n",
    "    m = 10*n\n",
    "    r = []  # массив отклонений ИПЛ в точках T\n",
    "    for j in range(n-1):\n",
    "        T = list((knots[j+1]-knots[j])/(m+1)*(i+1)+knots[j] for i in range(m))  # массив точек разбиения [a,b], в которых определяется отклонение\n",
    "        Snj= ans[4*j]*x**3 + ans[4*j+1]*x**2+ans[4*j+2]*x+ans[4*j+3]  # полином на отрезке [x_j,x_j+1]\n",
    "        rj = [abs(f.subs(x, ti) - Snj.subs(x, ti)) for ti in T]  # массив разностей на отрезке [x_j,x_j+1]\n",
    "        r.append(max(rj))\n",
    "    return max(r)"
   ]
  },
  {
   "cell_type": "markdown",
   "metadata": {},
   "source": [
    "# Построение таблицы"
   ]
  },
  {
   "cell_type": "code",
   "execution_count": 10,
   "metadata": {},
   "outputs": [
    {
     "data": {
      "text/html": [
       "<div>\n",
       "<style scoped>\n",
       "    .dataframe tbody tr th:only-of-type {\n",
       "        vertical-align: middle;\n",
       "    }\n",
       "\n",
       "    .dataframe tbody tr th {\n",
       "        vertical-align: top;\n",
       "    }\n",
       "\n",
       "    .dataframe thead th {\n",
       "        text-align: right;\n",
       "    }\n",
       "</style>\n",
       "<table border=\"1\" class=\"dataframe\">\n",
       "  <thead>\n",
       "    <tr style=\"text-align: right;\">\n",
       "      <th></th>\n",
       "      <th>n</th>\n",
       "      <th>m</th>\n",
       "      <th>RS32n</th>\n",
       "      <th>RS32optn</th>\n",
       "    </tr>\n",
       "  </thead>\n",
       "  <tbody>\n",
       "    <tr>\n",
       "      <th>0</th>\n",
       "      <td>4.0</td>\n",
       "      <td>40.0</td>\n",
       "      <td>2.99339812492464</td>\n",
       "      <td>0.242182417667430</td>\n",
       "    </tr>\n",
       "    <tr>\n",
       "      <th>1</th>\n",
       "      <td>6.0</td>\n",
       "      <td>60.0</td>\n",
       "      <td>1.53277639623546</td>\n",
       "      <td>0.227427498949173</td>\n",
       "    </tr>\n",
       "    <tr>\n",
       "      <th>2</th>\n",
       "      <td>9.0</td>\n",
       "      <td>90.0</td>\n",
       "      <td>0.630241440911927</td>\n",
       "      <td>0.0286717110256482</td>\n",
       "    </tr>\n",
       "    <tr>\n",
       "      <th>3</th>\n",
       "      <td>20.0</td>\n",
       "      <td>200.0</td>\n",
       "      <td>0.0921439207176272</td>\n",
       "      <td>0.000931259375524185</td>\n",
       "    </tr>\n",
       "    <tr>\n",
       "      <th>4</th>\n",
       "      <td>30.0</td>\n",
       "      <td>300.0</td>\n",
       "      <td>0.0449017273997168</td>\n",
       "      <td>0.000182896230758622</td>\n",
       "    </tr>\n",
       "    <tr>\n",
       "      <th>5</th>\n",
       "      <td>50.0</td>\n",
       "      <td>500.0</td>\n",
       "      <td>0.0178383601196757</td>\n",
       "      <td>2.37858980209893e-5</td>\n",
       "    </tr>\n",
       "  </tbody>\n",
       "</table>\n",
       "</div>"
      ],
      "text/plain": [
       "      n      m               RS32n              RS32optn\n",
       "0   4.0   40.0    2.99339812492464     0.242182417667430\n",
       "1   6.0   60.0    1.53277639623546     0.227427498949173\n",
       "2   9.0   90.0   0.630241440911927    0.0286717110256482\n",
       "3  20.0  200.0  0.0921439207176272  0.000931259375524185\n",
       "4  30.0  300.0  0.0449017273997168  0.000182896230758622\n",
       "5  50.0  500.0  0.0178383601196757   2.37858980209893e-5"
      ]
     },
     "metadata": {},
     "output_type": "display_data"
    }
   ],
   "source": [
    "df = pd.DataFrame({'n': [], 'm':[], 'RS32n': [], 'RS32optn':[]})  # для построения таблицы поведения S32 при увеличении количества узлов интерполирования\n",
    "n_knots = [4, 6, 9, 20, 30, 50]\n",
    "for n in n_knots:\n",
    "    RS32= RS(n, f)  # максимум отклонения на равноотстоящих узлах\n",
    "    RS32opt = RSopt(n,f)  # максимум отклонения на оптимальных узлах\n",
    "    line = {'n': n, 'm': 10*n, 'RS32n':RS32, 'RS32optn':RS32opt}\n",
    "    df = df.append(line, ignore_index=True)\n",
    "display(df)"
   ]
  },
  {
   "cell_type": "markdown",
   "metadata": {},
   "source": [
    "# Построение графиков\n",
    "## на равноотстоящих узлах"
   ]
  },
  {
   "cell_type": "code",
   "execution_count": 11,
   "metadata": {},
   "outputs": [],
   "source": [
    "# для удобства определим функцию построения графика\n",
    "def plot_spline(n, a, b, f):\n",
    "    knots = [] # равноотстоящие узлы интерполирования\n",
    "    for i in range(n):\n",
    "            xi = a + ((b-a)/(n-1))*i\n",
    "            knots.append(xi)\n",
    "    knots = list((b-a)/(n+1)*(i+1) for i in range(n))\n",
    "    for i in range(n):\n",
    "            xi = a + ((b-a)/(n-1))*i\n",
    "            knots.append(xi)  \n",
    "    for i in range(n-1):\n",
    "        X = np.arange(knots[i], knots[i+1], 0.05)\n",
    "        ans = S_32(n,f)\n",
    "        qi = ans[4*i]*x**3 + ans[4*i+1]*x**2+ans[4*i+2]*x+ans[4*i+3]  # q_i = a_i3*x^3+a_i2*x^2+a_i1*x+a_i0\n",
    "        lix = [qi.subs(x, xk) for xk in X]\n",
    "        plt.plot(X, lix, '--', linewidth = 3)"
   ]
  },
  {
   "cell_type": "code",
   "execution_count": 12,
   "metadata": {
    "scrolled": true
   },
   "outputs": [
    {
     "data": {
      "text/plain": [
       "Text(0.5, 1.0, 'График №1 S_32 n=5, n=10, n=30')"
      ]
     },
     "execution_count": 12,
     "metadata": {},
     "output_type": "execute_result"
    },
    {
     "data": {
      "image/png": "[encoded data removed]",
      "text/plain": [
       "<Figure size 432x288 with 1 Axes>"
      ]
     },
     "metadata": {
      "needs_background": "light"
     },
     "output_type": "display_data"
    }
   ],
   "source": [
    "plt.figure()\n",
    "x = sym.symbols('x')\n",
    "li = sym.Function('li')(x)\n",
    "ab = np.arange(a, b, 0.3)\n",
    "fx = [f.subs(x, xi) for xi in ab]\n",
    "plot_spline(5, 0, 10, f)\n",
    "plot_spline(10, 0, 10, f)\n",
    "plot_spline(30, 0, 10, f)\n",
    "plt.plot(ab, fx, 'k', linewidth = 0.5)\n",
    "plt.title('График №1 S_32 n=5, n=10, n=30')"
   ]
  },
  {
   "cell_type": "markdown",
   "metadata": {},
   "source": [
    "### Для наглядности так же в таком варианте "
   ]
  },
  {
   "cell_type": "code",
   "execution_count": 13,
   "metadata": {},
   "outputs": [
    {
     "data": {
      "text/plain": [
       "<matplotlib.legend.Legend at 0x1ff421f4880>"
      ]
     },
     "execution_count": 13,
     "metadata": {},
     "output_type": "execute_result"
    },
    {
     "data": {
      "image/png": "[encoded data removed]",
      "text/plain": [
       "<Figure size 432x288 with 4 Axes>"
      ]
     },
     "metadata": {
      "needs_background": "light"
     },
     "output_type": "display_data"
    }
   ],
   "source": [
    "plt.figure(3)\n",
    "plt.subplot(221)\n",
    "plt.plot(ab, fx, 'k')\n",
    "plt.legend('f(x)')\n",
    "plt.subplot(222)\n",
    "plt.plot(ab, fx, 'k', linewidth = 0.5)\n",
    "plot_spline(5, 0, 10, f)\n",
    "label = ['S32 n=5']\n",
    "plt.legend(label)\n",
    "plt.subplot(223)\n",
    "plt.plot(ab, fx, 'k', linewidth = 0.5)\n",
    "plot_spline(10, 0, 10, f)\n",
    "label = ['S32 n=10']\n",
    "plt.legend(label)\n",
    "plt.subplot(224)\n",
    "plt.plot(ab, fx, 'k', linewidth = 0.5)\n",
    "plot_spline(30, 0, 10, f)\n",
    "label = ['S32 n=30']\n",
    "plt.legend(label)"
   ]
  },
  {
   "cell_type": "markdown",
   "metadata": {},
   "source": [
    "## на оптимальных узлах"
   ]
  },
  {
   "cell_type": "code",
   "execution_count": 14,
   "metadata": {},
   "outputs": [],
   "source": [
    "# для удобства определим функцию построения графика\n",
    "def plot_spline_opt(n, a, b, f):\n",
    "    knots = list(((b-a)*sym.cos((2*i+1)*math.pi/(2*(n+1)))+b+a)/2 for i in range(n)) # оптимальные узлы интерполирования\n",
    "    knots.sort()\n",
    "    for i in range(n-1):\n",
    "        X = np.arange(knots[i], knots[i+1], 0.05)\n",
    "        ans = S_32opt(n,f)\n",
    "        li = ans[4*i]*x**3 + ans[4*i+1]*x**2+ans[4*i+2]*x+ans[4*i+3] # l_i = a_i3*x^3+a_i2*x^2+a_i1*x+a_i0\n",
    "        lix = [li.subs(x, xk) for xk in X]\n",
    "        plt.plot(X, lix, '--', linewidth = 3)"
   ]
  },
  {
   "cell_type": "code",
   "execution_count": 15,
   "metadata": {},
   "outputs": [
    {
     "data": {
      "image/png": "[encoded data removed]",
      "text/plain": [
       "<Figure size 432x288 with 1 Axes>"
      ]
     },
     "metadata": {
      "needs_background": "light"
     },
     "output_type": "display_data"
    }
   ],
   "source": [
    "plt.figure(4)\n",
    "plt.plot(ab, fx, 'k', linewidth = 0.5)\n",
    "plt.title('График №2 S_32 n=3, n=10, n=30 на оптимальных')\n",
    "plot_spline_opt(5, 0, 10, f)\n",
    "plot_spline_opt(10, 0, 10, f)\n",
    "plot_spline_opt(30, 0, 10, f)"
   ]
  },
  {
   "cell_type": "code",
   "execution_count": 16,
   "metadata": {},
   "outputs": [
    {
     "data": {
      "text/plain": [
       "<matplotlib.legend.Legend at 0x1ff426f4eb0>"
      ]
     },
     "execution_count": 16,
     "metadata": {},
     "output_type": "execute_result"
    },
    {
     "data": {
      "image/png": "[encoded data removed]",
      "text/plain": [
       "<Figure size 432x288 with 4 Axes>"
      ]
     },
     "metadata": {
      "needs_background": "light"
     },
     "output_type": "display_data"
    }
   ],
   "source": [
    "plt.figure(3)\n",
    "plt.subplot(221)\n",
    "plt.plot(ab, fx, 'k')\n",
    "plt.legend('f(x)')\n",
    "plt.subplot(222)\n",
    "plt.plot(ab, fx, 'k', linewidth = 0.5)\n",
    "plot_spline_opt(5, 0, 10, f)\n",
    "label = ['S32 n=5']\n",
    "plt.legend(label)\n",
    "plt.subplot(223)\n",
    "plt.plot(ab, fx, 'k', linewidth = 0.5)\n",
    "plot_spline_opt(10, 0, 10, f)\n",
    "label = ['S32 n=10']\n",
    "plt.legend(label)\n",
    "plt.subplot(224)\n",
    "plt.plot(ab, fx, 'k', linewidth = 0.5)\n",
    "plot_spline_opt(30, 0, 10, f)\n",
    "label = ['S32 n=30']\n",
    "plt.legend(label)"
   ]
  },
  {
   "cell_type": "code",
   "execution_count": null,
   "metadata": {},
   "outputs": [],
   "source": []
  }
 ],
 "metadata": {
  "kernelspec": {
   "display_name": "Python 3",
   "language": "python",
   "name": "python3"
  },
  "language_info": {
   "codemirror_mode": {
    "name": "ipython",
    "version": 3
   },
   "file_extension": ".py",
   "mimetype": "text/x-python",
   "name": "python",
   "nbconvert_exporter": "python",
   "pygments_lexer": "ipython3",
   "version": "3.8.3"
  }
 },
 "nbformat": 4,
 "nbformat_minor": 4
}
