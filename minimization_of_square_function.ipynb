{
 "cells": [
  {
   "cell_type": "markdown",
   "metadata": {},
   "source": [
    "# Минимизация квадратичной функции"
   ]
  },
  {
   "cell_type": "markdown",
   "metadata": {},
   "source": [
    "# Метод наискорейшего градиентного спуска (МНГС) "
   ]
  },
  {
   "cell_type": "markdown",
   "metadata": {},
   "source": [
    "### импорт библиотек"
   ]
  },
  {
   "cell_type": "code",
   "execution_count": 1,
   "metadata": {},
   "outputs": [],
   "source": [
    "import sympy as sym\n",
    "import numpy as np"
   ]
  },
  {
   "cell_type": "code",
   "execution_count": 2,
   "metadata": {},
   "outputs": [],
   "source": [
    "# функция транспонирования матрицы\n",
    "def transpose(A):\n",
    "    n = len(A)\n",
    "    A1 = np.copy(A)\n",
    "    for i in range(n):\n",
    "        for j in range(n):\n",
    "            A1[i][j] = A[j][i]\n",
    "    return A1\n",
    "def vec_transpose(q):\n",
    "    n = len(q)\n",
    "    ans = []\n"
   ]
  },
  {
   "cell_type": "markdown",
   "metadata": {},
   "source": [
    "### ввод данных"
   ]
  },
  {
   "cell_type": "code",
   "execution_count": 3,
   "metadata": {},
   "outputs": [
    {
     "name": "stdout",
     "output_type": "stream",
     "text": [
      "собственные числа:  [3.26737156 6.44692569 8.68570275]\n",
      "m = 3.267371563474186\n"
     ]
    }
   ],
   "source": [
    "x, y, z = sym.symbols('x y z')  # ввели символьные переменные\n",
    "f = sym.Function('f')(x, y, z)  # ввели символьную функцию\n",
    "N = 1  # номер в списке группы\n",
    "f = 2*x**2+(3+0.1*N)*y**2+(4+0.1*N)*z**2+x*y-y*z+x*z+x-2*y+3*z+N  # заданная для минимизации функция\n",
    "# f = 2x^2+3.1y^2+4.1z^2+xy-yz+xz+x-2y+3z+1\n",
    "eps = 10**(-6)  # заданная погрешность измерений\n",
    "\n",
    "# f представляется в виде f = 1/2*xT*A*X + xT*b + N\n",
    "A = [[4, 1, 1], [1, 6.2, -1], [1, -1, 8.2]]  \n",
    "b = [1, -2, 3]\n",
    "\n",
    "# gradf = sym.Function('gradf')(x, y, z)  # градиент функции f\n",
    "gradf = [4*x+y+z+1, x+6.2*y-z-2, x-y+8.2*z+3]  # посчитан вручную, \n",
    "    # либо с помощью встроенной функции gradf = [sym.diff(f,x), sym.diff(f, y), sym.diff(f,z)]\n",
    "    # либо учитывая что для квадратичной функции градиент имеет вид gradf = Ax+b\n",
    "x0 = [0, 0, 0]  # начальное приближение, (метод сходится для любого начального х0)\n",
    "xk = [10, 10, 10]  # проинициализировано только для захода в цикл\n",
    "\n",
    "# Воспользовавшись формулой (2.6) в методичке, можно оценить расстояние от произвольной точки\n",
    "# до точки минимума\n",
    "\n",
    "eig = np.linalg.eigvals(A)  # собственные числа матрицы А\n",
    "print(\"собственные числа: \", eig)\n",
    "m=min(eig) # минимальное собственное число\n",
    "print(\"m =\", m)"
   ]
  },
  {
   "cell_type": "markdown",
   "metadata": {},
   "source": [
    "### определение дополнительных функций для вычислений"
   ]
  },
  {
   "cell_type": "code",
   "execution_count": 4,
   "metadata": {},
   "outputs": [],
   "source": [
    "# евклидова норма вектора \n",
    "def norm2vec(x): \n",
    "    x = [a**2 for a in x ] # возьмем каждый элемент вектора в квадрате\n",
    "    return sum(x)**(1/2)\n",
    "# умножение вектора на число\n",
    "def vec_mul_number(x, n):\n",
    "    return [a*n for a in x]"
   ]
  },
  {
   "cell_type": "markdown",
   "metadata": {},
   "source": [
    "### Алгоритм"
   ]
  },
  {
   "cell_type": "code",
   "execution_count": 9,
   "metadata": {},
   "outputs": [
    {
     "name": "stdout",
     "output_type": "stream",
     "text": [
      "3.74165738677394\n"
     ]
    },
    {
     "ename": "TypeError",
     "evalue": "'One' object is not subscriptable",
     "output_type": "error",
     "traceback": [
      "\u001b[1;31m---------------------------------------------------------------------------\u001b[0m",
      "\u001b[1;31mTypeError\u001b[0m                                 Traceback (most recent call last)",
      "\u001b[1;32m<ipython-input-9-610dfc1b9dfa>\u001b[0m in \u001b[0;36m<module>\u001b[1;34m\u001b[0m\n\u001b[0;32m      5\u001b[0m \u001b[0mqnorm\u001b[0m \u001b[1;33m=\u001b[0m \u001b[0mnorm2vec\u001b[0m\u001b[1;33m(\u001b[0m\u001b[0mq\u001b[0m\u001b[1;33m)\u001b[0m\u001b[1;33m\u001b[0m\u001b[1;33m\u001b[0m\u001b[0m\n\u001b[0;32m      6\u001b[0m \u001b[0mprint\u001b[0m\u001b[1;33m(\u001b[0m\u001b[0mqnorm\u001b[0m\u001b[1;33m)\u001b[0m\u001b[1;33m\u001b[0m\u001b[1;33m\u001b[0m\u001b[0m\n\u001b[1;32m----> 7\u001b[1;33m \u001b[0mqt\u001b[0m \u001b[1;33m=\u001b[0m \u001b[0mtranspose\u001b[0m\u001b[1;33m(\u001b[0m\u001b[0mq\u001b[0m\u001b[1;33m)\u001b[0m  \u001b[1;31m# q транспонированное\u001b[0m\u001b[1;33m\u001b[0m\u001b[1;33m\u001b[0m\u001b[0m\n\u001b[0m\u001b[0;32m      8\u001b[0m \u001b[0mmu\u001b[0m \u001b[1;33m=\u001b[0m \u001b[1;33m-\u001b[0m\u001b[0mqnorm\u001b[0m\u001b[1;33m/\u001b[0m\u001b[1;33m(\u001b[0m\u001b[1;33m(\u001b[0m\u001b[0mqt\u001b[0m\u001b[1;33m.\u001b[0m\u001b[0mdot\u001b[0m\u001b[1;33m(\u001b[0m\u001b[0mA\u001b[0m\u001b[1;33m)\u001b[0m\u001b[1;33m.\u001b[0m\u001b[0mdot\u001b[0m\u001b[1;33m(\u001b[0m\u001b[0mq\u001b[0m\u001b[1;33m)\u001b[0m\u001b[1;33m)\u001b[0m\u001b[1;33m)\u001b[0m  \u001b[1;31m# мю\u001b[0m\u001b[1;33m\u001b[0m\u001b[1;33m\u001b[0m\u001b[0m\n\u001b[0;32m      9\u001b[0m \u001b[0mxk\u001b[0m \u001b[1;33m=\u001b[0m \u001b[0mx0\u001b[0m \u001b[1;33m+\u001b[0m \u001b[0mnp\u001b[0m\u001b[1;33m.\u001b[0m\u001b[0marray\u001b[0m\u001b[1;33m(\u001b[0m\u001b[0mvec_mul_number\u001b[0m\u001b[1;33m(\u001b[0m\u001b[0mq\u001b[0m\u001b[1;33m,\u001b[0m \u001b[0mmu\u001b[0m\u001b[1;33m)\u001b[0m\u001b[1;33m)\u001b[0m \u001b[1;31m#xk+1\u001b[0m\u001b[1;33m\u001b[0m\u001b[1;33m\u001b[0m\u001b[0m\n",
      "\u001b[1;32m<ipython-input-2-0ef1485a4f47>\u001b[0m in \u001b[0;36mtranspose\u001b[1;34m(A)\u001b[0m\n\u001b[0;32m      5\u001b[0m     \u001b[1;32mfor\u001b[0m \u001b[0mi\u001b[0m \u001b[1;32min\u001b[0m \u001b[0mrange\u001b[0m\u001b[1;33m(\u001b[0m\u001b[0mn\u001b[0m\u001b[1;33m)\u001b[0m\u001b[1;33m:\u001b[0m\u001b[1;33m\u001b[0m\u001b[1;33m\u001b[0m\u001b[0m\n\u001b[0;32m      6\u001b[0m         \u001b[1;32mfor\u001b[0m \u001b[0mj\u001b[0m \u001b[1;32min\u001b[0m \u001b[0mrange\u001b[0m\u001b[1;33m(\u001b[0m\u001b[0mn\u001b[0m\u001b[1;33m)\u001b[0m\u001b[1;33m:\u001b[0m\u001b[1;33m\u001b[0m\u001b[1;33m\u001b[0m\u001b[0m\n\u001b[1;32m----> 7\u001b[1;33m             \u001b[0mA1\u001b[0m\u001b[1;33m[\u001b[0m\u001b[0mi\u001b[0m\u001b[1;33m]\u001b[0m\u001b[1;33m[\u001b[0m\u001b[0mj\u001b[0m\u001b[1;33m]\u001b[0m \u001b[1;33m=\u001b[0m \u001b[0mA\u001b[0m\u001b[1;33m[\u001b[0m\u001b[0mj\u001b[0m\u001b[1;33m]\u001b[0m\u001b[1;33m[\u001b[0m\u001b[0mi\u001b[0m\u001b[1;33m]\u001b[0m\u001b[1;33m\u001b[0m\u001b[1;33m\u001b[0m\u001b[0m\n\u001b[0m\u001b[0;32m      8\u001b[0m     \u001b[1;32mreturn\u001b[0m \u001b[0mA1\u001b[0m\u001b[1;33m\u001b[0m\u001b[1;33m\u001b[0m\u001b[0m\n\u001b[0;32m      9\u001b[0m \u001b[1;32mdef\u001b[0m \u001b[0mvec_transpose\u001b[0m\u001b[1;33m(\u001b[0m\u001b[0mq\u001b[0m\u001b[1;33m)\u001b[0m\u001b[1;33m:\u001b[0m\u001b[1;33m\u001b[0m\u001b[1;33m\u001b[0m\u001b[0m\n",
      "\u001b[1;31mTypeError\u001b[0m: 'One' object is not subscriptable"
     ]
    }
   ],
   "source": [
    "q = np.array([gradf[0].subs([(x, x0[0]), (y, x0[1]),(z, x0[2])]), \n",
    "              gradf[1].subs([(x, x0[0]), (y, x0[1]),(z, x0[2])]),\n",
    "              gradf[2].subs([(x, x0[0]), (y, x0[1]),(z, x0[2])])])\n",
    "\n",
    "qnorm = norm2vec(q)\n",
    "print(qnorm)\n",
    "qt = transpose(q)  # q транспонированное\n",
    "mu = -qnorm/((qt.dot(A).dot(q)))  # мю\n",
    "xk = x0 + np.array(vec_mul_number(q, mu)) #xk+1\n",
    "while (norm2vec(q)/m >= eps):\n",
    "    x0=xk  # x_k\n",
    "    q = np.array([gradf[0].subs([(x, x0[0]), (y, x0[1]),(z, x0[2])]), \n",
    "                  gradf[1].subs([(x, x0[0]), (y, x0[1]),(z, x0[2])]),\n",
    "                  gradf[2].subs([(x, x0[0]), (y, x0[1]),(z, x0[2])])])\n",
    "    qnorm = norm2vec(q)\n",
    "    qt = transpose(q)\n",
    "    mu = -qnorm**2/((qt.dot(A).dot(q)))\n",
    "    xk = x0 + vec_mul_number(q, mu)  # x_k+1\n",
    "    print([a.round(6) for a in xk], [a.round(6) for a in q], mu.round(6))\n",
    "print(\"xk = \", xk)"
   ]
  },
  {
   "cell_type": "markdown",
   "metadata": {},
   "source": [
    "### Результаты"
   ]
  },
  {
   "cell_type": "code",
   "execution_count": 5,
   "metadata": {},
   "outputs": [
    {
     "name": "stdout",
     "output_type": "stream",
     "text": [
      "f(xk) =  0.112264975951105\n",
      "Delta =  1.10540743225584e-12\n"
     ]
    }
   ],
   "source": [
    "f_xk = f.subs([(x, xk[0]), (y, xk[1]),(z, xk[2])])\n",
    "print(\"f(xk) = \", f_xk)\n",
    "fmin = 0.11226497595  # точное значение функции в точке минимума, посчитанное при помощи Wolfram Alpha\n",
    "print(\"Delta = \", abs(fmin-f_xk))  # Delta - абсолютная погрешность"
   ]
  },
  {
   "cell_type": "markdown",
   "metadata": {},
   "source": [
    "# Метод наискорейшего покоординатного спуска"
   ]
  },
  {
   "cell_type": "markdown",
   "metadata": {},
   "source": [
    "### ввод данных\n",
    "аналогичен, добавлен для наглядности в дальнейшем"
   ]
  },
  {
   "cell_type": "code",
   "execution_count": 6,
   "metadata": {},
   "outputs": [],
   "source": [
    "x, y, z = sym.symbols('x y z')\n",
    "f = sym.Function('f')(x, y, z)\n",
    "N = 1\n",
    "f = 2*x**2+(3+0.1*N)*y**2+(4+0.1*N)*z**2+x*y-y*z+x*z+x-2*y+3*z+N\n",
    "eps = 10**(-6)\n",
    "A = np.array([[4, 1, 1], [1, 6.2, -1], [1, -1, 8.2]])\n",
    "b = [1, -2, 3]\n",
    "gradf=sym.Function('gradf')(x, y, z)\n",
    "gradf = [4*x+y+z+1, x+6.2*y-z-2, x-y+8.2*z+3]\n",
    "x0 = np.array([10, 10, 10]) \n",
    "xk = np.zeros(3)\n",
    "eig = np.linalg.eigvals(A)\n",
    "m=min(eig)"
   ]
  },
  {
   "cell_type": "markdown",
   "metadata": {},
   "source": [
    "### Алгоритм"
   ]
  },
  {
   "cell_type": "code",
   "execution_count": 7,
   "metadata": {},
   "outputs": [
    {
     "name": "stdout",
     "output_type": "stream",
     "text": [
      "[-0.25, 0.0, 0.0] [1.0, 0.0, 0.0] -0.25\n",
      "[-0.25, 0.362903, 0.0] [0.0, 1.0, 0.0] 0.362903\n",
      "[-0.25, 0.362903, -0.291109] [0.0, 0.0, 1.0] -0.291109\n",
      "[-0.267948, 0.362903, -0.291109] [1.0, 0.0, 0.0] -0.017948\n",
      "[-0.267948, 0.318845, -0.291109] [0.0, 1.0, 0.0] -0.044058\n",
      "[-0.267948, 0.318845, -0.294293] [0.0, 0.0, 1.0] -0.003184\n",
      "[-0.256138, 0.318845, -0.294293] [1.0, 0.0, 0.0] 0.011811\n",
      "[-0.256138, 0.316427, -0.294293] [0.0, 1.0, 0.0] -0.002418\n",
      "[-0.256138, 0.316427, -0.296029] [0.0, 0.0, 1.0] -0.001735\n",
      "[-0.255099, 0.316427, -0.296029] [1.0, 0.0, 0.0] 0.001038\n",
      "[-0.255099, 0.315979, -0.296029] [0.0, 1.0, 0.0] -0.000447\n",
      "[-0.255099, 0.315979, -0.29621] [0.0, 0.0, 1.0] -0.000181\n",
      "[-0.254942, 0.315979, -0.29621] [1.0, 0.0, 0.0] 0.000157\n",
      "[-0.254942, 0.315925, -0.29621] [0.0, 1.0, 0.0] -5.5e-05\n",
      "[-0.254942, 0.315925, -0.296236] [0.0, 0.0, 1.0] -2.6e-05\n",
      "[-0.254922, 0.315925, -0.296236] [1.0, 0.0, 0.0] 2e-05\n",
      "[-0.254922, 0.315917, -0.296236] [0.0, 1.0, 0.0] -7e-06\n",
      "[-0.254922, 0.315917, -0.296239] [0.0, 0.0, 1.0] -3e-06\n",
      "[-0.25492, 0.315917, -0.296239] [1.0, 0.0, 0.0] 3e-06\n",
      "[-0.25492, 0.315916, -0.296239] [0.0, 1.0, 0.0] -1e-06\n",
      "[-0.25492, 0.315916, -0.29624] [0.0, 0.0, 1.0] -0.0\n",
      "xk =  [-0.25491952  0.3159162  -0.29623955]\n"
     ]
    }
   ],
   "source": [
    "while (norm2vec(A.dot(xk)+b)/m >= eps):\n",
    "    for i in range(3):\n",
    "        x0=xk\n",
    "        q = np.array(np.eye(3)[i])  # q = e_i, где e_i - единичный орт 3х3\n",
    "        qt = q.transpose()\n",
    "        mu = -q.dot(A.dot(x0)+b)/((qt.dot(A).dot(q)))\n",
    "        xk = x0 + vec_mul_number(q, mu) #xk+1\n",
    "        print([a.round(6) for a in xk], [a.round(6) for a in q], mu.round(6))\n",
    "print(\"xk = \", xk)"
   ]
  },
  {
   "cell_type": "markdown",
   "metadata": {},
   "source": [
    "### Результаты"
   ]
  },
  {
   "cell_type": "code",
   "execution_count": 8,
   "metadata": {},
   "outputs": [
    {
     "name": "stdout",
     "output_type": "stream",
     "text": [
      "f(xk) =  0.112264975951352\n",
      "Delta =  1.35209898832755e-12\n"
     ]
    }
   ],
   "source": [
    "f_xk = f.subs([(x, xk[0]), (y, xk[1]),(z, xk[2])])\n",
    "print(\"f(xk) = \", f_xk)\n",
    "fmin = 0.11226497595  # точное значение функции в точке минимума, посчитанное при помощи Wolfram Alpha\n",
    "print(\"Delta = \", abs(fmin-f_xk))"
   ]
  }
 ],
 "metadata": {
  "kernelspec": {
   "display_name": "Python 3",
   "language": "python",
   "name": "python3"
  },
  "language_info": {
   "codemirror_mode": {
    "name": "ipython",
    "version": 3
   },
   "file_extension": ".py",
   "mimetype": "text/x-python",
   "name": "python",
   "nbconvert_exporter": "python",
   "pygments_lexer": "ipython3",
   "version": "3.8.3"
  }
 },
 "nbformat": 4,
 "nbformat_minor": 4
}
