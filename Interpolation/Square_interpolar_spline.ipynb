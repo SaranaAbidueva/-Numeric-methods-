{
 "cells": [
  {
   "cell_type": "markdown",
   "metadata": {},
   "source": [
    "# Квадратичный сплайн 21"
   ]
  },
  {
   "cell_type": "markdown",
   "metadata": {},
   "source": [
    "### Импорт библиотек"
   ]
  },
  {
   "cell_type": "code",
   "execution_count": 1,
   "metadata": {},
   "outputs": [],
   "source": [
    "import sympy as sym  # библиотека символьных вычислений\n",
    "import numpy as np # библиотека для работы с массивами\n",
    "import math  # для операции факториала, числа pi\n",
    "import matplotlib.pyplot as plt  # для построения графиков\n",
    "import pandas as pd  # для построения таблицы\n",
    "from IPython.display import display  # для вывода таблицы"
   ]
  },
  {
   "cell_type": "markdown",
   "metadata": {},
   "source": [
    "### Инициализация символьных переменных"
   ]
  },
  {
   "cell_type": "code",
   "execution_count": 2,
   "metadata": {},
   "outputs": [],
   "source": [
    "x = sym.symbols('x')  # инициализировали символьные переменные\n",
    "f = sym.Function('f')(x)  # инициализировали символьную функцию\n",
    "# N = 1 - номер в списке группы\n",
    "f = x - sym.sin(x) - 0.25  # определили функцию соответственно номеру в списке группы\n",
    "a = 0\n",
    "b = 10  # [a,b] - выбранный интервал интерполирования"
   ]
  },
  {
   "cell_type": "markdown",
   "metadata": {},
   "source": [
    "### Определим функцию решения СЛАУ методом отражений\n",
    "#### понадобится ниже\n",
    "метод Гаусса неустойчив на плохо обусловленных матрицах (например, при n=3 число обусловленности 1.5тыс.)\n",
    "метод Гаусса с выбором максимального элемента тоже не помог\n",
    "Метод отражений справляется лучше на плохо обусловленных матрицах, но и он показал неудовлетворительные результаты"
   ]
  },
  {
   "cell_type": "code",
   "execution_count": 3,
   "metadata": {},
   "outputs": [],
   "source": [
    "def metod_otr(A, b):\n",
    "    n = len(b)\n",
    "    Q = np.eye(n)\n",
    "    R = np.copy(A)\n",
    "    for i in range(n-1):\n",
    "        # строим w\n",
    "        y = np.zeros(n-i)  # n-i-й столбец матрицы R\n",
    "        for j in range(i, n):\n",
    "            y[j-i]=R[j][i]\n",
    "        #print('y= ', y)\n",
    "        z = np.zeros(n-i)\n",
    "        z[0] = 1  # z - орт е1\n",
    "        #print('z=', z)\n",
    "        alpha = np.linalg.norm(y)\n",
    "        #print('a*z=', alpha*z)\n",
    "        w = (y-alpha*z)/np.linalg.norm(y-alpha*z)\n",
    "        #print('w=', w)\n",
    "        #print('w norm =', np.linalg.norm(w))\n",
    "        \n",
    "        # строим Q, R\n",
    "        W = np.eye(n-i)  # W= w*wT - матрица\n",
    "        for j in range(n-i):\n",
    "            for k in range(n-i):\n",
    "                W[j][k] = w[j]*w[k]\n",
    "        #print('W=', W)\n",
    "        Q_small = np.eye(n-i)-2*W\n",
    "        R_small = np.zeros((n-i, n-i))\n",
    "        for j in range(i, n):\n",
    "            for k in range(i, n):\n",
    "                R_small[j-i][k-i] = R[j][k]\n",
    "        #print('Q_small=', Q_small)\n",
    "        #print('R_small=', R_small)     \n",
    "        R_small = np.dot(Q_small,R_small)\n",
    "        #print('R_small=', R_small)\n",
    "        # Q new, размера nxn\n",
    "        Q_new = np.eye(n)\n",
    "        if (i==0):\n",
    "            R = np.eye(n)\n",
    "        for j in range(i, n):\n",
    "            for k in range(i, n):\n",
    "                Q_new[j][k] = Q_small[j-i][k-i]\n",
    "                R[j][k] = R_small[j-i][k-i]           \n",
    "        #print('Q_new=', Q_new)\n",
    "        #print('R=', R)\n",
    "        Q = np.dot(Q, Q_new)\n",
    "        #print('Q=', Q)\n",
    "        #print('QR=', np.dot(Q,R))\n",
    "        #print()\n",
    "    # обратный ход\n",
    "    y = np.dot(np.transpose(Q),b)\n",
    "    x = np.copy(y)\n",
    "    for i in range(n-1, -1, -1):\n",
    "        for j in range(n-2, i-1, -1):\n",
    "            x[i] -= x[j+1]*R[i][j+1]\n",
    "        x[i]/=R[i][i]\n",
    "    return x"
   ]
  },
  {
   "cell_type": "markdown",
   "metadata": {},
   "source": [
    "# Сплайн S_21\n",
    "## На равноотстоящих узлах"
   ]
  },
  {
   "cell_type": "markdown",
   "metadata": {},
   "source": [
    "функция возвращает вектор a=(a_11,a_10,a_21,a_20,...,a_n-1.1,a_n0)"
   ]
  },
  {
   "cell_type": "code",
   "execution_count": 4,
   "metadata": {},
   "outputs": [],
   "source": [
    "def S_21(n, f):\n",
    "    knots = [] # равноотстоящие узлы интерполирования\n",
    "    for i in range(n):\n",
    "            xi = a + ((b-a)/(n-1))*i\n",
    "            knots.append(xi) \n",
    "    A = []  \n",
    "    y = []\n",
    "    \n",
    "    # строим матрицу А, вектор у\n",
    "    for i in range(n-1):\n",
    "        row1 = np.zeros(3*n-3)  # 1-я, 4-я и т.д. строка матрицы А\n",
    "        row1[3*i] = knots[i]**2  # 1-й, 4-й и т.д. элемент строки\n",
    "        row1[3*i+1] = knots[i]  # 2-й элемент\n",
    "        row1[3*i+2] = 1  # 3-й\n",
    "        A.append(row1)  # присоединили строку к матрице А\n",
    "        \n",
    "        row2 = np.zeros(3*n-3)\n",
    "        row2[3*i] = knots[i+1]**2\n",
    "        row2[3*i+1] = knots[i+1]\n",
    "        row2[3*i+2] = 1 \n",
    "        A.append(row2)\n",
    "        \n",
    "        y.append(f.subs(x, knots[i]))\n",
    "        y.append(f.subs(x, knots[i+1]))\n",
    "        \n",
    "        row3 = np.zeros(3*n-3)\n",
    "        row3[3*i] = 2*knots[i+1]\n",
    "        row3[3*i+1] = 1\n",
    "        # если i=n-2, то в 3-й строке не 6 элементов, а 3\n",
    "        if (i!=n-2):\n",
    "            row3[3*i+3] = -2*knots[i+1]\n",
    "            row3[3*i+4] = -1\n",
    "        y.append(0)\n",
    "        A.append(row3)\n",
    "    # решим СЛАУ с помощью метода отражений\n",
    "    ans = metod_otr(np.array(A), np.array(y))\n",
    "    return ans"
   ]
  },
  {
   "cell_type": "markdown",
   "metadata": {},
   "source": [
    "## Функция поиска максимума отклонения\n",
    "### на равноостоящих узлах"
   ]
  },
  {
   "cell_type": "code",
   "execution_count": 5,
   "metadata": {},
   "outputs": [],
   "source": [
    "def RS(n, f):\n",
    "    knots = [] # равноотстоящие узлы интерполирования\n",
    "    for i in range(n):\n",
    "            xi = a + ((b-a)/(n-1))*i\n",
    "            knots.append(xi) \n",
    "    ans = S_21(n, f)  # сплайн 2,1, вектор коэффициентов\n",
    "    m = 10*n  # количество точек разбиения\n",
    "    r = []  # массив максимумов отклонений сплайна на отрезках [x_j,x_j+1]\n",
    "    for j in range(n-1):\n",
    "        T = list((knots[j+1]-knots[j])/(m+1)*(i+1)+knots[j] for i in range(m))  # массив точек разбиения [a,b], в которых определяется отклонение\n",
    "        Snj= ans[3*j]*x**2 + ans[3*j+1]*x+ans[3*j+2]  # полином на отрезке [x_j,x_j+1]\n",
    "        rj = [abs(f.subs(x, ti) - Snj.subs(x, ti)) for ti in T]  # массив разностей на отрезке [x_j,x_j+1]\n",
    "        r.append(max(rj))  # присоединили максимальный на отрезке\n",
    "    return max(r)"
   ]
  },
  {
   "cell_type": "markdown",
   "metadata": {},
   "source": [
    "## Сплайн на оптимальных узлах"
   ]
  },
  {
   "cell_type": "markdown",
   "metadata": {},
   "source": [
    "всё то же самое, изменены только узлы интерполирования"
   ]
  },
  {
   "cell_type": "code",
   "execution_count": 6,
   "metadata": {},
   "outputs": [],
   "source": [
    "def S_21opt(n, f):\n",
    "    knots = list(((b-a)*sym.cos((2*i+1)*math.pi/(2*(n+1)))+b+a)/2 for i in range(n)) # оптимальные узлы интерполирования\n",
    "    knots.sort()  # отсортировала \n",
    "    A = [] \n",
    "    y = []\n",
    "    \n",
    "    # строим матрицу А, вектор у\n",
    "    for i in range(n-1):\n",
    "        row1 = np.zeros(3*n-3)\n",
    "        row1[3*i] = knots[i]**2\n",
    "        row1[3*i+1] = knots[i]\n",
    "        row1[3*i+2] = 1\n",
    "        A.append(row1)\n",
    "        row2 = np.zeros(3*n-3)\n",
    "        row2[3*i] = knots[i+1]**2\n",
    "        row2[3*i+1] = knots[i+1]\n",
    "        row2[3*i+2] = 1 \n",
    "        A.append(row2)\n",
    "        y.append(f.subs(x, knots[i]))\n",
    "        y.append(f.subs(x, knots[i+1]))\n",
    "        row3 = np.zeros(3*n-3)\n",
    "        row3[3*i] = 2*knots[i+1]\n",
    "        row3[3*i+1] = 1\n",
    "        if (i!=n-2):\n",
    "            row3[3*i+3] = -2*knots[i+1]\n",
    "            row3[3*i+4] = -1\n",
    "        y.append(0)\n",
    "        A.append(row3)\n",
    "    # решим СЛАУ с помощью метода отражений\n",
    "    ans = metod_otr(np.array(A), np.array(y))\n",
    "    return ans"
   ]
  },
  {
   "cell_type": "markdown",
   "metadata": {},
   "source": [
    "### Функция поиска максимума отклонения на оптимальных узлах"
   ]
  },
  {
   "cell_type": "code",
   "execution_count": 7,
   "metadata": {},
   "outputs": [],
   "source": [
    "def RSopt(n, f):\n",
    "    knots = list(((b-a)*sym.cos((2*i+1)*math.pi/(2*(n+1)))+b+a)/2 for i in range(n)) # оптимальные узлы интерполирования\n",
    "    knots.sort()\n",
    "    ans = S_21opt(n, f) \n",
    "    m = 10*n\n",
    "    r = []  # массив отклонений ИПЛ в точках T\n",
    "    for j in range(n-1):\n",
    "        T = list((knots[j+1]-knots[j])/(m+1)*(i+1)+knots[j] for i in range(m))  # массив точек разбиения [a,b], в которых определяется отклонение\n",
    "        Snj= ans[3*j]*x**2 + ans[3*j+1]*x+ans[3*j+2]  # полином на отрезке [x_j,x_j+1]\n",
    "        rj = [abs(f.subs(x, ti) - Snj.subs(x, ti)) for ti in T]  # массив разностей на отрезке [x_j,x_j+1]\n",
    "        r.append(max(rj))  # присоединили максимальный на отрезке\n",
    "    return max(r)"
   ]
  },
  {
   "cell_type": "markdown",
   "metadata": {},
   "source": [
    "# Построение таблицы"
   ]
  },
  {
   "cell_type": "code",
   "execution_count": 8,
   "metadata": {},
   "outputs": [
    {
     "data": {
      "text/html": [
       "<div>\n",
       "<style scoped>\n",
       "    .dataframe tbody tr th:only-of-type {\n",
       "        vertical-align: middle;\n",
       "    }\n",
       "\n",
       "    .dataframe tbody tr th {\n",
       "        vertical-align: top;\n",
       "    }\n",
       "\n",
       "    .dataframe thead th {\n",
       "        text-align: right;\n",
       "    }\n",
       "</style>\n",
       "<table border=\"1\" class=\"dataframe\">\n",
       "  <thead>\n",
       "    <tr style=\"text-align: right;\">\n",
       "      <th></th>\n",
       "      <th>n</th>\n",
       "      <th>m</th>\n",
       "      <th>RS21n</th>\n",
       "      <th>RS21optn</th>\n",
       "    </tr>\n",
       "  </thead>\n",
       "  <tbody>\n",
       "    <tr>\n",
       "      <th>0</th>\n",
       "      <td>4.0</td>\n",
       "      <td>40.0</td>\n",
       "      <td>2.71289168790295</td>\n",
       "      <td>2.91724137448813</td>\n",
       "    </tr>\n",
       "    <tr>\n",
       "      <th>1</th>\n",
       "      <td>6.0</td>\n",
       "      <td>60.0</td>\n",
       "      <td>1.34130152652727</td>\n",
       "      <td>0.881726079593689</td>\n",
       "    </tr>\n",
       "    <tr>\n",
       "      <th>2</th>\n",
       "      <td>9.0</td>\n",
       "      <td>90.0</td>\n",
       "      <td>0.636457978160759</td>\n",
       "      <td>0.799091481145185</td>\n",
       "    </tr>\n",
       "    <tr>\n",
       "      <th>3</th>\n",
       "      <td>20.0</td>\n",
       "      <td>200.0</td>\n",
       "      <td>0.245198122169641</td>\n",
       "      <td>0.346575572472596</td>\n",
       "    </tr>\n",
       "    <tr>\n",
       "      <th>4</th>\n",
       "      <td>30.0</td>\n",
       "      <td>300.0</td>\n",
       "      <td>0.159373072460290</td>\n",
       "      <td>0.233454806784947</td>\n",
       "    </tr>\n",
       "    <tr>\n",
       "      <th>5</th>\n",
       "      <td>50.0</td>\n",
       "      <td>500.0</td>\n",
       "      <td>0.0939926127157833</td>\n",
       "      <td>0.141681249438993</td>\n",
       "    </tr>\n",
       "  </tbody>\n",
       "</table>\n",
       "</div>"
      ],
      "text/plain": [
       "      n      m               RS21n           RS21optn\n",
       "0   4.0   40.0    2.71289168790295   2.91724137448813\n",
       "1   6.0   60.0    1.34130152652727  0.881726079593689\n",
       "2   9.0   90.0   0.636457978160759  0.799091481145185\n",
       "3  20.0  200.0   0.245198122169641  0.346575572472596\n",
       "4  30.0  300.0   0.159373072460290  0.233454806784947\n",
       "5  50.0  500.0  0.0939926127157833  0.141681249438993"
      ]
     },
     "metadata": {},
     "output_type": "display_data"
    }
   ],
   "source": [
    "df = pd.DataFrame({'n': [], 'm':[], 'RS21n': [], 'RS21optn':[]})  # для построения таблицы поведения S21 при увеличении количества узлов интерполирования\n",
    "n_knots = [4, 6, 9, 20, 30, 50]\n",
    "for n in n_knots:\n",
    "    RS21= RS(n, f)  # максимум отклонения на равноостоящих узлах\n",
    "    RS21opt = RSopt(n,f)  # максимум отклонения на оптимальных узлах\n",
    "    line = {'n': n, 'm': 10*n, 'RS21n':RS21, 'RS21optn':RS21opt}\n",
    "    df = df.append(line, ignore_index=True)\n",
    "display(df)"
   ]
  },
  {
   "cell_type": "markdown",
   "metadata": {},
   "source": [
    "# Построение графиков\n",
    "## на равноотстоящих узлах"
   ]
  },
  {
   "cell_type": "code",
   "execution_count": 9,
   "metadata": {},
   "outputs": [],
   "source": [
    "# для удобства определим функцию построения графика\n",
    "def plot_spline(n, a, b, f):\n",
    "    knots = [] # равноотстоящие узлы интерполирования\n",
    "    for i in range(n):\n",
    "            xi = a + ((b-a)/(n-1))*i\n",
    "            knots.append(xi) \n",
    "    for i in range(n-1):\n",
    "        X = np.arange(knots[i], knots[i+1], 0.05)\n",
    "        ans = S_21(n,f)\n",
    "        qi = ans[3*i]*x**2 + ans[3*i+1]*x+ans[3*i+2]  # q_i = a_i2*x^2+a_i1*x+a_i0\n",
    "        lix = [qi.subs(x, xk) for xk in X]\n",
    "        plt.plot(X, lix, '--', linewidth = 3)"
   ]
  },
  {
   "cell_type": "code",
   "execution_count": 10,
   "metadata": {
    "scrolled": true
   },
   "outputs": [
    {
     "data": {
      "text/plain": [
       "Text(0.5, 1.0, 'График №1 S_21 n=3, n=10, n=50')"
      ]
     },
     "execution_count": 10,
     "metadata": {},
     "output_type": "execute_result"
    },
    {
     "data": {
      "image/png": "[encoded data removed]",
      "text/plain": [
       "<Figure size 432x288 with 1 Axes>"
      ]
     },
     "metadata": {
      "needs_background": "light"
     },
     "output_type": "display_data"
    }
   ],
   "source": [
    "plt.figure()\n",
    "x = sym.symbols('x')\n",
    "li = sym.Function('li')(x)\n",
    "ab = np.arange(a, b, 0.3)\n",
    "fx = [f.subs(x, xi) for xi in ab]\n",
    "plot_spline(3, 0, 10, f)\n",
    "plot_spline(10, 0, 10, f)\n",
    "#plot_spline(50, 0, 10, f)\n",
    "plt.plot(ab, fx, 'k', linewidth = 0.5)\n",
    "plt.title('График №1 S_21 n=3, n=10, n=50')"
   ]
  },
  {
   "cell_type": "markdown",
   "metadata": {},
   "source": [
    "### Для наглядности так же в таком варианте "
   ]
  },
  {
   "cell_type": "code",
   "execution_count": 11,
   "metadata": {},
   "outputs": [
    {
     "data": {
      "text/plain": [
       "<matplotlib.legend.Legend at 0x2054b6359d0>"
      ]
     },
     "execution_count": 11,
     "metadata": {},
     "output_type": "execute_result"
    },
    {
     "data": {
      "image/png": "[encoded data removed]",
      "text/plain": [
       "<Figure size 432x288 with 4 Axes>"
      ]
     },
     "metadata": {
      "needs_background": "light"
     },
     "output_type": "display_data"
    }
   ],
   "source": [
    "plt.figure(3)\n",
    "plt.subplot(221)\n",
    "plt.plot(ab, fx, 'k')\n",
    "plt.legend('f(x)')\n",
    "plt.subplot(222)\n",
    "plt.plot(ab, fx, 'k', linewidth = 0.5)\n",
    "plot_spline(3, 0, 10, f)\n",
    "label = ['S21 n=3']\n",
    "plt.legend(label)\n",
    "plt.subplot(223)\n",
    "plt.plot(ab, fx, 'k', linewidth = 0.5)\n",
    "plot_spline(10, 0, 10, f)\n",
    "label = ['S21 n=10']\n",
    "plt.legend(label)\n",
    "plt.subplot(224)\n",
    "plt.plot(ab, fx, 'k', linewidth = 0.5)\n",
    "plot_spline(30, 0, 10, f)\n",
    "label = ['S21 n=30']\n",
    "plt.legend(label)"
   ]
  },
  {
   "cell_type": "markdown",
   "metadata": {},
   "source": [
    "## на оптимальных узлах"
   ]
  },
  {
   "cell_type": "code",
   "execution_count": 12,
   "metadata": {},
   "outputs": [],
   "source": [
    "# для удобства определим функцию построения графика\n",
    "def plot_spline_opt(n, a, b, f):\n",
    "    knots = list(((b-a)*sym.cos((2*i+1)*math.pi/(2*(n+1)))+b+a)/2 for i in range(n)) # оптимальные узлы интерполирования\n",
    "    knots.sort()\n",
    "    for i in range(n-1):\n",
    "        X = np.arange(knots[i], knots[i+1], 0.05)\n",
    "        ans = S_21opt(n,f)\n",
    "        li = ans[3*i]*x**2 + ans[3*i+1]*x+ans[3*i+2]  # q_i = a_i2*x^2+a_i1*x+a_i0\n",
    "        lix = [li.subs(x, xk) for xk in X]\n",
    "        plt.plot(X, lix, '--', linewidth = 3)"
   ]
  },
  {
   "cell_type": "code",
   "execution_count": 13,
   "metadata": {},
   "outputs": [
    {
     "data": {
      "image/png": "[encoded data removed]",
      "text/plain": [
       "<Figure size 432x288 with 1 Axes>"
      ]
     },
     "metadata": {
      "needs_background": "light"
     },
     "output_type": "display_data"
    }
   ],
   "source": [
    "plt.figure(4)\n",
    "plt.plot(ab, fx, 'k', linewidth = 0.5)\n",
    "plt.title('График №2 S_10 n=3, n=10, n=30 на оптимальных')\n",
    "plot_spline_opt(3, 0, 10, f)\n",
    "plot_spline_opt(10, 0, 10, f)\n",
    "plot_spline_opt(30, 0, 10, f)"
   ]
  },
  {
   "cell_type": "code",
   "execution_count": 14,
   "metadata": {},
   "outputs": [
    {
     "data": {
      "text/plain": [
       "<matplotlib.legend.Legend at 0x2054af09a00>"
      ]
     },
     "execution_count": 14,
     "metadata": {},
     "output_type": "execute_result"
    },
    {
     "data": {
      "image/png": "[encoded data removed]",
      "text/plain": [
       "<Figure size 432x288 with 4 Axes>"
      ]
     },
     "metadata": {
      "needs_background": "light"
     },
     "output_type": "display_data"
    }
   ],
   "source": [
    "plt.figure(3)\n",
    "plt.subplot(221)\n",
    "plt.plot(ab, fx, 'k')\n",
    "plt.legend('f(x)')\n",
    "plt.subplot(222)\n",
    "plt.plot(ab, fx, 'k', linewidth = 0.5)\n",
    "plot_spline_opt(3, 0, 10, f)\n",
    "label = ['S21 n=3']\n",
    "plt.legend(label)\n",
    "plt.subplot(223)\n",
    "plt.plot(ab, fx, 'k', linewidth = 0.5)\n",
    "plot_spline_opt(10, 0, 10, f)\n",
    "label = ['S21 n=10']\n",
    "plt.legend(label)\n",
    "plt.subplot(224)\n",
    "plt.plot(ab, fx, 'k', linewidth = 0.5)\n",
    "plot_spline_opt(30, 0, 10, f)\n",
    "label = ['S21 n=30']\n",
    "plt.legend(label)"
   ]
  },
  {
   "cell_type": "code",
   "execution_count": null,
   "metadata": {},
   "outputs": [],
   "source": []
  }
 ],
 "metadata": {
  "kernelspec": {
   "display_name": "Python 3",
   "language": "python",
   "name": "python3"
  },
  "language_info": {
   "codemirror_mode": {
    "name": "ipython",
    "version": 3
   },
   "file_extension": ".py",
   "mimetype": "text/x-python",
   "name": "python",
   "nbconvert_exporter": "python",
   "pygments_lexer": "ipython3",
   "version": "3.8.3"
  }
 },
 "nbformat": 4,
 "nbformat_minor": 4
}
