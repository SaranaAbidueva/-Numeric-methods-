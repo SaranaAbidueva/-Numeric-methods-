{
 "cells": [
  {
   "cell_type": "markdown",
   "metadata": {},
   "source": [
    "# Линейный интерполяционный сплайн 10"
   ]
  },
  {
   "cell_type": "markdown",
   "metadata": {},
   "source": [
    "### Импорт библиотек"
   ]
  },
  {
   "cell_type": "code",
   "execution_count": 1,
   "metadata": {},
   "outputs": [],
   "source": [
    "import sympy as sym  # библиотека символьных вычислений\n",
    "import numpy as np # библиотека для работы с массивами\n",
    "import math  # для операции факториала, числа pi\n",
    "import matplotlib.pyplot as plt  # для построения графиков\n",
    "import pandas as pd  # для построения таблицы\n",
    "from IPython.display import display  # для вывода таблицы"
   ]
  },
  {
   "cell_type": "markdown",
   "metadata": {},
   "source": [
    "### Инициализация символьных переменных"
   ]
  },
  {
   "cell_type": "code",
   "execution_count": 2,
   "metadata": {},
   "outputs": [],
   "source": [
    "x = sym.symbols('x')  # инициализировали символьные переменные\n",
    "f = sym.Function('f')(x)  # инициализировали символьную функцию\n",
    "# N = 1 - номер в списке группы\n",
    "f = x - sym.sin(x) - 0.25  # определили функцию соответственно номеру в списке группы\n",
    "a = 0\n",
    "b = 10  # [a,b] - выбранный интервал интерполирования "
   ]
  },
  {
   "cell_type": "markdown",
   "metadata": {},
   "source": [
    "### Определим функцию решения СЛАУ методом Гаусса\n",
    "#### понадобится ниже\n",
    "(взято из работ прошлого семестра)"
   ]
  },
  {
   "cell_type": "code",
   "execution_count": 3,
   "metadata": {},
   "outputs": [],
   "source": [
    "def Gauss(A, b): # A - матрица (n,n), b - вектор (n,1)\n",
    "    n=len(b)\n",
    "    #прямой ход метода Гаусса\n",
    "    for k in range(n): # строки\n",
    "        # поиск максимума по столбцу\n",
    "        max_index=0 # индекс максимума к-го столбца\n",
    "        maxk=0  # максимум к-го столбца\n",
    "        for i in range(k, n): # столбцы\n",
    "            if (maxk<abs(A[i][k])):\n",
    "                    max_index=i\n",
    "                    maxk=abs(A[i][k])\n",
    "        #нашли индекс максимума, теперь меняем строки\n",
    "        Cb=b[k]\n",
    "        b[k]=b[max_index]\n",
    "        b[max_index]=Cb\n",
    "        \n",
    "        C=A[k]\n",
    "        A[k]=A[max_index]\n",
    "        A[max_index]=C  \n",
    "\n",
    "        # нормируем строку\n",
    "        b[k]=b[k]/A[k][k]\n",
    "        A[k]=[A[k][x]/A[k][k] for x in range(n)] \n",
    "        # преобразуем последующие n-k строк\n",
    "        for m in range(k+1, n):\n",
    "            b[m]=b[m]-b[k]*A[m][k]\n",
    "            A[m]=[A[m][x]-A[k][x]*A[m][k] for x in range(n)]            \n",
    "        \n",
    "    #print('A=', np.array(A).round(4))\n",
    "    #print('b=', np.array(b).round(4))\n",
    "    \n",
    "    # обратный ход метода Гаусса\n",
    "    X=[0]*n # вектор неизвестных\n",
    "    i=n\n",
    "    while (i!=0):\n",
    "        i-=1\n",
    "        X[i]=b[i]\n",
    "        for j in range(n-i-1):\n",
    "            X[i]=X[i]-A[i][n-1-j]*X[i+1]\n",
    "    return X"
   ]
  },
  {
   "cell_type": "markdown",
   "metadata": {},
   "source": [
    "# Сплайн S_10\n",
    "## На равноотстоящих узлах"
   ]
  },
  {
   "cell_type": "markdown",
   "metadata": {},
   "source": [
    "функция возвращает вектор a=(a_11,a_10,a_21,a_20,...,a_n-1.1,a_n0)"
   ]
  },
  {
   "cell_type": "code",
   "execution_count": 4,
   "metadata": {},
   "outputs": [],
   "source": [
    "def S_10(n, f):\n",
    "    knots = [] # равноотстоящие узлы интерполирования\n",
    "    for i in range(n):\n",
    "            xi = a + ((b-a)/(n-1))*i\n",
    "            knots.append(xi)  \n",
    "    A = []  # размерность будет 2n-2\n",
    "    y = []\n",
    "    X = []  # Х - вектор подматриц 2х2 матрицы А, для удобства решения СЛАУ потом\n",
    "    for i in range(n-1):\n",
    "        row1 = np.zeros(2*n-2)  # 1-я, 3-я и т.д. строки матрицы А\n",
    "        row1[2*i] = knots[i]  # 1-й, 3-й и т.д. элемент строки\n",
    "        row1[2*i+1] = 1  # 2-й, 4-й и т.д. элемент строки\n",
    "        A.append(row1)  # присоединили строку\n",
    "        \n",
    "        row2 = np.zeros(2*n-2)  # 2-я, 4-я и т.д. строки матрицы А\n",
    "        row2[2*i] = knots[i+1]\n",
    "        row2[2*i+1] = 1\n",
    "        A.append(row2)\n",
    "        # строим вектор у\n",
    "        y.append(f.subs(x, knots[i]))\n",
    "        y.append(f.subs(x, knots[i+1]))\n",
    "        # присоединим подматрицу 2х2 к вектору Х\n",
    "        X.append([[knots[i], 1], [knots[i+1], 1]])\n",
    "    # print('A=')\n",
    "    # print(np.matrix(A))\n",
    "    # print('y=', y)\n",
    "    \n",
    "    ans = []  # сюда запишем вектор a=(a_11,a_10,a_21,a_20,...,a_n-1.1,a_n0)\n",
    "    for i in range(n-1):\n",
    "        X1 = X[i]\n",
    "        Y = [y[2*i], y[2*i+1]]\n",
    "        ans.append(Gauss(X1, Y))\n",
    "    ans = sum(ans, [])\n",
    "    \n",
    "    # print(ans)\n",
    "    return ans"
   ]
  },
  {
   "cell_type": "markdown",
   "metadata": {},
   "source": [
    "## Функция поиска максимума отклонения\n",
    "### на равноостоящих узлах"
   ]
  },
  {
   "cell_type": "code",
   "execution_count": 5,
   "metadata": {},
   "outputs": [],
   "source": [
    "def RS(n, f):\n",
    "    knots = [] # равноотстоящие узлы интерполирования\n",
    "    for i in range(n):\n",
    "            xi = a + ((b-a)/(n-1))*i\n",
    "            knots.append(xi)  \n",
    "    ans = S_10(n, f)  # сплайн 1,0, вектор коэффициентов\n",
    "    m = 10*n  # количество точек разбиений\n",
    "    r = []  # массив максимумов отклонений сплайна на отрезках [x_j,x_j+1]\n",
    "    for j in range(n-1):\n",
    "        T = list((knots[j+1]-knots[j])/(m+1)*(i+1)+knots[j] for i in range(m))  # массив точек разбиения [a,b], в которых определяется отклонение\n",
    "        Snj= ans[2*j]*x + ans[2*j+1]  # полином на j-м отрезке \n",
    "        rj = [abs(f.subs(x, ti) - Snj.subs(x, ti)) for ti in T]  # отклонение на j-м отрезке\n",
    "        r.append(max(rj))  # присоединили максимальный на отрезке\n",
    "    return max(r)"
   ]
  },
  {
   "cell_type": "markdown",
   "metadata": {},
   "source": [
    "## Сплайн на оптимальных узлах"
   ]
  },
  {
   "cell_type": "markdown",
   "metadata": {},
   "source": [
    "все аналогично, поменяла только узлы интерполирования"
   ]
  },
  {
   "cell_type": "code",
   "execution_count": 6,
   "metadata": {},
   "outputs": [],
   "source": [
    "def S_10opt(n, f):\n",
    "    knots = list(((b-a)*sym.cos((2*i+1)*math.pi/(2*(n+1)))+b+a)/2 for i in range(n)) # оптимальные узлы интерполирования\n",
    "    knots.sort()  # отсортировала,чтобы узлы шли последовательно\n",
    "    A = []  # размерность будет 2n-2\n",
    "    y = []\n",
    "    X = []  # Х - вектор подматриц 2х2 матрицы А, для удобства решения СЛАУ потом\n",
    "    for i in range(n-1):\n",
    "        row1 = np.zeros(2*n-2)  # 1-я, 3-я и т.д. строки матрицы А\n",
    "        row1[2*i] = knots[i]  # 1-й, 3-й и т.д. элемент строки\n",
    "        row1[2*i+1] = 1  # 2-й, 4-й и т.д. элемент строки\n",
    "        A.append(row1)  # присоединили строку\n",
    "        \n",
    "        row2 = np.zeros(2*n-2)  # 2-я, 4-я и т.д. строки матрицы А\n",
    "        row2[2*i] = knots[i+1]\n",
    "        row2[2*i+1] = 1\n",
    "        A.append(row2)\n",
    "        # строим вектор у\n",
    "        y.append(f.subs(x, knots[i]))\n",
    "        y.append(f.subs(x, knots[i+1]))\n",
    "        # присоединим подматрицу 2х2 к вектору Х\n",
    "        X.append([[knots[i], 1], [knots[i+1], 1]])\n",
    "    # print('A=')\n",
    "    # print(np.matrix(A))\n",
    "    # print('y=', y)\n",
    "    \n",
    "    ans = []  # сюда запишем вектор a=(a_11,a_10,a_21,a_20,...,a_n-1.1,a_n0)\n",
    "    for i in range(n-1):\n",
    "        X1 = X[i]\n",
    "        Y = [y[2*i], y[2*i+1]]\n",
    "        ans.append(Gauss(X1, Y))\n",
    "    ans = sum(ans, [])\n",
    "    \n",
    "    # print(ans)\n",
    "    return ans"
   ]
  },
  {
   "cell_type": "markdown",
   "metadata": {},
   "source": [
    "### Функция поиска максимума отклонения на оптимальных узлах"
   ]
  },
  {
   "cell_type": "code",
   "execution_count": 7,
   "metadata": {},
   "outputs": [],
   "source": [
    "def RSopt(n, f):\n",
    "    knots = list(((b-a)*sym.cos((2*i+1)*math.pi/(2*(n+1)))+b+a)/2 for i in range(n)) # оптимальные узлы интерполирования\n",
    "    knots.sort()\n",
    "    ans = S_10opt(n, f)  # сплайн 1,0, вектор коэффициентов\n",
    "    m = 10*n  # количество точек разбиений\n",
    "    r = []  # массив максимумов отклонений сплайна на отрезках [x_j,x_j+1]\n",
    "    for j in range(n-1):\n",
    "        T = list((knots[j+1]-knots[j])/(m+1)*(i+1)+knots[j] for i in range(m))  # массив точек разбиения [a,b], в которых определяется отклонение\n",
    "        Snj= ans[2*j]*x + ans[2*j+1]  # полином на j-м отрезке \n",
    "        rj = [abs(f.subs(x, ti) - Snj.subs(x, ti)) for ti in T]  # присоединили максимальный на отрезке\n",
    "        r.append(max(rj))\n",
    "    return max(r)"
   ]
  },
  {
   "cell_type": "markdown",
   "metadata": {},
   "source": [
    "# Построение таблицы"
   ]
  },
  {
   "cell_type": "code",
   "execution_count": 8,
   "metadata": {},
   "outputs": [
    {
     "data": {
      "text/html": [
       "<div>\n",
       "<style scoped>\n",
       "    .dataframe tbody tr th:only-of-type {\n",
       "        vertical-align: middle;\n",
       "    }\n",
       "\n",
       "    .dataframe tbody tr th {\n",
       "        vertical-align: top;\n",
       "    }\n",
       "\n",
       "    .dataframe thead th {\n",
       "        text-align: right;\n",
       "    }\n",
       "</style>\n",
       "<table border=\"1\" class=\"dataframe\">\n",
       "  <thead>\n",
       "    <tr style=\"text-align: right;\">\n",
       "      <th></th>\n",
       "      <th>n</th>\n",
       "      <th>m</th>\n",
       "      <th>RS10n</th>\n",
       "      <th>RS10optn</th>\n",
       "    </tr>\n",
       "  </thead>\n",
       "  <tbody>\n",
       "    <tr>\n",
       "      <th>0</th>\n",
       "      <td>4.0</td>\n",
       "      <td>40.0</td>\n",
       "      <td>1.09143574874183</td>\n",
       "      <td>0.424401811361756</td>\n",
       "    </tr>\n",
       "    <tr>\n",
       "      <th>1</th>\n",
       "      <td>6.0</td>\n",
       "      <td>60.0</td>\n",
       "      <td>0.441861786049397</td>\n",
       "      <td>0.384081485890563</td>\n",
       "    </tr>\n",
       "    <tr>\n",
       "      <th>2</th>\n",
       "      <td>9.0</td>\n",
       "      <td>90.0</td>\n",
       "      <td>0.182284065016564</td>\n",
       "      <td>0.279082378711418</td>\n",
       "    </tr>\n",
       "    <tr>\n",
       "      <th>3</th>\n",
       "      <td>15.0</td>\n",
       "      <td>150.0</td>\n",
       "      <td>0.0629487066728638</td>\n",
       "      <td>0.112936302157330</td>\n",
       "    </tr>\n",
       "    <tr>\n",
       "      <th>4</th>\n",
       "      <td>30.0</td>\n",
       "      <td>300.0</td>\n",
       "      <td>0.0148236686314399</td>\n",
       "      <td>0.0317951448822473</td>\n",
       "    </tr>\n",
       "    <tr>\n",
       "      <th>5</th>\n",
       "      <td>50.0</td>\n",
       "      <td>500.0</td>\n",
       "      <td>0.00520160269281611</td>\n",
       "      <td>0.0117142126326186</td>\n",
       "    </tr>\n",
       "  </tbody>\n",
       "</table>\n",
       "</div>"
      ],
      "text/plain": [
       "      n      m                RS10n            RS10optn\n",
       "0   4.0   40.0     1.09143574874183   0.424401811361756\n",
       "1   6.0   60.0    0.441861786049397   0.384081485890563\n",
       "2   9.0   90.0    0.182284065016564   0.279082378711418\n",
       "3  15.0  150.0   0.0629487066728638   0.112936302157330\n",
       "4  30.0  300.0   0.0148236686314399  0.0317951448822473\n",
       "5  50.0  500.0  0.00520160269281611  0.0117142126326186"
      ]
     },
     "metadata": {},
     "output_type": "display_data"
    }
   ],
   "source": [
    "df = pd.DataFrame({'n': [], 'm':[], 'RS10n': [], 'RS10optn':[]})  # для построения таблицы поведения S10 при увеличении количества узлов интерполирования\n",
    "n_knots = [4, 6, 9, 15, 30, 50]\n",
    "for n in n_knots:\n",
    "    RS10= RS(n, f)  # максимум отклонения на равноостоящих узлах\n",
    "    RS10opt = RSopt(n,f)  # максимум отклонения на оптимальных узлах\n",
    "    line = {'n': n, 'm': 10*n, 'RS10n':RS10, 'RS10optn':RS10opt}\n",
    "    df = df.append(line, ignore_index=True)\n",
    "display(df)"
   ]
  },
  {
   "cell_type": "markdown",
   "metadata": {},
   "source": [
    "# Построение графиков\n",
    "## на равноотстоящих узлах"
   ]
  },
  {
   "cell_type": "code",
   "execution_count": 9,
   "metadata": {},
   "outputs": [],
   "source": [
    "# для удобства определим функцию построения графика\n",
    "def plot_spline(n, a, b, f):\n",
    "    knots = [] # равноотстоящие узлы интерполирования\n",
    "    for i in range(n):\n",
    "            xi = a + ((b-a)/(n-1))*i\n",
    "            knots.append(xi)  \n",
    "    for i in range(n-1):\n",
    "        X = np.arange(knots[i], knots[i+1], 0.05)\n",
    "        ans = S_10(n,f)\n",
    "        li = ans[2*i]*x + ans[2*i+1]   # l_i = a_i1*x+a_i0\n",
    "        lix = [li.subs(x, xk) for xk in X]  # подставили точки хк\n",
    "        plt.plot(X, lix, '--', linewidth = 3)"
   ]
  },
  {
   "cell_type": "code",
   "execution_count": 10,
   "metadata": {},
   "outputs": [
    {
     "data": {
      "text/plain": [
       "Text(0.5, 1.0, 'График №1 S_10 n=3, n=10, n=50')"
      ]
     },
     "execution_count": 10,
     "metadata": {},
     "output_type": "execute_result"
    },
    {
     "data": {
      "image/png": "[encoded data removed]",
      "text/plain": [
       "<Figure size 432x288 with 1 Axes>"
      ]
     },
     "metadata": {
      "needs_background": "light"
     },
     "output_type": "display_data"
    }
   ],
   "source": [
    "plt.figure()\n",
    "x = sym.symbols('x')\n",
    "li = sym.Function('li')(x)\n",
    "ab = np.arange(a, b, 0.01)\n",
    "fx = [f.subs(x, xi) for xi in ab]\n",
    "plot_spline(3, 0, 10, f)\n",
    "plot_spline(10, 0, 10, f)\n",
    "plot_spline(50, 0, 10, f)\n",
    "plt.plot(ab, fx, 'k', linewidth = 0.5)\n",
    "plt.title('График №1 S_10 n=3, n=10, n=50')"
   ]
  },
  {
   "cell_type": "markdown",
   "metadata": {},
   "source": [
    "### Для наглядности так же в таком варианте "
   ]
  },
  {
   "cell_type": "code",
   "execution_count": 11,
   "metadata": {},
   "outputs": [
    {
     "data": {
      "text/plain": [
       "<matplotlib.legend.Legend at 0x1746b8250a0>"
      ]
     },
     "execution_count": 11,
     "metadata": {},
     "output_type": "execute_result"
    },
    {
     "data": {
      "image/png": "[encoded data removed]",
      "text/plain": [
       "<Figure size 432x288 with 4 Axes>"
      ]
     },
     "metadata": {
      "needs_background": "light"
     },
     "output_type": "display_data"
    }
   ],
   "source": [
    "plt.figure(3)\n",
    "plt.subplot(221)\n",
    "plt.plot(ab, fx, 'k')\n",
    "label = ['f(x)']\n",
    "plt.legend(label)\n",
    "plt.subplot(222)\n",
    "plt.plot(ab, fx, 'k', linewidth = 0.5)\n",
    "plot_spline(3, 0, 10, f)\n",
    "label = ['S10 n=3']\n",
    "plt.legend(label)\n",
    "plt.subplot(223)\n",
    "plt.plot(ab, fx, 'k', linewidth = 0.5)\n",
    "plot_spline(10, 0, 10, f)\n",
    "label = ['S10 n=10']\n",
    "plt.legend(label)\n",
    "plt.subplot(224)\n",
    "plt.plot(ab, fx, 'k', linewidth = 0.5)\n",
    "plot_spline(50, 0, 10, f)\n",
    "label = ['S10 n=50']\n",
    "plt.legend(label)"
   ]
  },
  {
   "cell_type": "markdown",
   "metadata": {},
   "source": [
    "## на оптимальных узлах"
   ]
  },
  {
   "cell_type": "code",
   "execution_count": 12,
   "metadata": {},
   "outputs": [],
   "source": [
    "# для удобства определим функцию построения графика\n",
    "def plot_spline_opt(n, a, b, f):\n",
    "    knots = list(((b-a)*sym.cos((2*i+1)*math.pi/(2*(n+1)))+b+a)/2 for i in range(n)) # оптимальные узлы интерполирования\n",
    "    knots.sort()\n",
    "    for i in range(n-1):\n",
    "        X = np.arange(knots[i], knots[i+1], 0.05)\n",
    "        ans = S_10opt(n,f)\n",
    "        li = ans[2*i]*x + ans[2*i+1]  # l_i = a_i1*x+a_i0\n",
    "        lix = [li.subs(x, xk) for xk in X]\n",
    "        plt.plot(X, lix, '--', linewidth = 3)"
   ]
  },
  {
   "cell_type": "code",
   "execution_count": 13,
   "metadata": {},
   "outputs": [
    {
     "data": {
      "image/png": "[encoded data removed]",
      "text/plain": [
       "<Figure size 432x288 with 1 Axes>"
      ]
     },
     "metadata": {
      "needs_background": "light"
     },
     "output_type": "display_data"
    }
   ],
   "source": [
    "plt.figure(4)\n",
    "plt.plot(ab, fx, 'k', linewidth = 0.5)\n",
    "plt.title('График №2 S_10 n=3, n=10, n=50 на оптимальных')\n",
    "plot_spline_opt(3, 0, 10, f)\n",
    "plot_spline_opt(10, 0, 10, f)\n",
    "plot_spline_opt(50, 0, 10, f)"
   ]
  },
  {
   "cell_type": "code",
   "execution_count": 14,
   "metadata": {},
   "outputs": [
    {
     "data": {
      "text/plain": [
       "<matplotlib.legend.Legend at 0x1746bfcb2e0>"
      ]
     },
     "execution_count": 14,
     "metadata": {},
     "output_type": "execute_result"
    },
    {
     "data": {
      "image/png": "[encoded data removed]",
      "text/plain": [
       "<Figure size 432x288 with 4 Axes>"
      ]
     },
     "metadata": {
      "needs_background": "light"
     },
     "output_type": "display_data"
    }
   ],
   "source": [
    "plt.figure(3)\n",
    "plt.subplot(221)\n",
    "plt.plot(ab, fx, 'k')\n",
    "plt.legend('f(x)')\n",
    "plt.subplot(222)\n",
    "plt.plot(ab, fx, 'k', linewidth = 0.5)\n",
    "plot_spline_opt(3, 0, 10, f)\n",
    "label = ['S10 n=3']\n",
    "plt.legend(label)\n",
    "plt.subplot(223)\n",
    "plt.plot(ab, fx, 'k', linewidth = 0.5)\n",
    "plot_spline_opt(10, 0, 10, f)\n",
    "label = ['S10 n=10']\n",
    "plt.legend(label)\n",
    "plt.subplot(224)\n",
    "plt.plot(ab, fx, 'k', linewidth = 0.5)\n",
    "plot_spline_opt(50, 0, 10, f)\n",
    "label = ['S10 n=50']\n",
    "plt.legend(label)"
   ]
  },
  {
   "cell_type": "code",
   "execution_count": null,
   "metadata": {},
   "outputs": [],
   "source": []
  }
 ],
 "metadata": {
  "kernelspec": {
   "display_name": "Python 3",
   "language": "python",
   "name": "python3"
  },
  "language_info": {
   "codemirror_mode": {
    "name": "ipython",
    "version": 3
   },
   "file_extension": ".py",
   "mimetype": "text/x-python",
   "name": "python",
   "nbconvert_exporter": "python",
   "pygments_lexer": "ipython3",
   "version": "3.8.3"
  }
 },
 "nbformat": 4,
 "nbformat_minor": 4
}
