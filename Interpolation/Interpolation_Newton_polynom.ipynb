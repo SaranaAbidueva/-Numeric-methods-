{
 "cells": [
  {
   "cell_type": "markdown",
   "metadata": {},
   "source": [
    "# Интерполяция полиномом Ньютона"
   ]
  },
  {
   "cell_type": "markdown",
   "metadata": {},
   "source": [
    "## Импорт библиотек"
   ]
  },
  {
   "cell_type": "code",
   "execution_count": 1,
   "metadata": {},
   "outputs": [],
   "source": [
    "import sympy as sym  # библиотека символьных вычислений\n",
    "import numpy as np # библиотека для работы с массивами\n",
    "import math  # для операции факториала, числа pi\n",
    "import matplotlib.pyplot as plt  # для построения графиков\n",
    "import pandas as pd  # для построения таблицы\n",
    "from IPython.display import display  # для вывода таблицы"
   ]
  },
  {
   "cell_type": "markdown",
   "metadata": {},
   "source": [
    "## Инициализация символьных переменных и функции"
   ]
  },
  {
   "cell_type": "code",
   "execution_count": 2,
   "metadata": {},
   "outputs": [],
   "source": [
    "x = sym.symbols('x')  # инициализировали символьные переменные\n",
    "f = sym.Function('f')(x)  # инициализировали символьную функцию\n",
    "# N = 1 - номер в списке группы\n",
    "f = x - sym.sin(x) - 0.25  # определили функцию соответственно номеру в списке группы\n",
    "a = 0\n",
    "b = 10  # [a,b] - выбранный интервал интерполирования"
   ]
  },
  {
   "cell_type": "markdown",
   "metadata": {},
   "source": [
    "## Метод Ньютона на равноотстоящих узлах"
   ]
  },
  {
   "cell_type": "markdown",
   "metadata": {},
   "source": [
    "для вычисления разделенных разностей воспользовалась альтернативной формулой из примера."
   ]
  },
  {
   "cell_type": "code",
   "execution_count": 3,
   "metadata": {},
   "outputs": [],
   "source": [
    "# определим функцию для вычисления полинома Ньютона на равноотстоящих узлах\n",
    "# Nn(n,f) где n - кол-во узлов интерполирования, f - функция, которую нужно интерполировать\n",
    "def Nn(n, f):\n",
    "    knots = [] # n равноотстоящих узлов интерполирования на [a,b]\n",
    "    for i in range(n):\n",
    "            xi = a + ((b-a)/(n-1))*i\n",
    "            knots.append(xi)\n",
    "    # print('knots = ', knots)\n",
    "    rr = []  # в этот массив записываю значения разделенных разностей\n",
    "    Nn = 0  # переменная для полинома Ньютона, проинициализировала нулём, т.к. буду прибавлять итеративно слагаемые\n",
    "    \n",
    "    # вычисление разделенных разностей \n",
    "    k=1  # индекс, отвечает за количество переменных в разделенной разности\n",
    "    # внешний цикл, в нем запоминаем все разделенные разности\n",
    "    for xj in knots: \n",
    "        knotsk = knots.copy() \n",
    "        knotsk = knotsk[0:k]  # запомнили первые k элементов из knots\n",
    "        # print('knotsk = ', knotsk)\n",
    "        rrk=0  # переменная для разделенной разности от k переменных, 0 т.к. буду итеративно прибавлять\n",
    "        # внутренний цикл, в нем считаю разделенную разность от k переменных\n",
    "        for xi in knotsk:  \n",
    "            knotsk_wo_xi = knotsk.copy()\n",
    "            knotsk_wo_xi.remove(xi)  # запомнили в переменную элементы knotsk кроме xi\n",
    "            # print('knotsk_wo_xi = ', knotsk_wo_xi)\n",
    "            gik = 1/np.prod([xi-xj for xj in knotsk_wo_xi])  # g_ik из альтернативной формулы для рр\n",
    "            rrk+=f.subs(x, xi)*gik  #  прибавили слагаемое из формулы разделенной разности\n",
    "        rr.append(rrk)  # запомнили в массив значение k-й разделенной разности\n",
    "        k+=1\n",
    "        # print('rr=', rr)\n",
    "    \n",
    "    # вычисление полинома Ньютона\n",
    "    for i in range(n):\n",
    "        Nn += rr[i]*np.prod([x-knots[k] for k in range(i)])\n",
    "    return Nn "
   ]
  },
  {
   "cell_type": "markdown",
   "metadata": {},
   "source": [
    "## Метод Ньютона на оптимальных узлах"
   ]
  },
  {
   "cell_type": "markdown",
   "metadata": {},
   "source": [
    "Всё то же самое, заменила только knots в начале. Для наглядности и дальнейшего использования, написала отдельно."
   ]
  },
  {
   "cell_type": "code",
   "execution_count": 4,
   "metadata": {},
   "outputs": [],
   "source": [
    "def Nn_opt(n, f):\n",
    "    knots = list(((b-a)*sym.cos((2*i+1)*math.pi/(2*(n+1)))+b+a)/2 for i in range(n)) # оптимальные узлы интерполирования\n",
    "    # print('knots_opt = ', knots)\n",
    "    rr = []  # в этот массив записываю значения разделенных разностей\n",
    "    Nn = 0  # переменная для полинома Ньютона, проинициализировала нулём, т.к. буду прибавлять итеративно слагаемые\n",
    "    \n",
    "    # вычисление разделенных разностей \n",
    "    k=1  # индекс, отвечает за количество переменных в разделенной разности\n",
    "    # внешний цикл, в нем запоминаем все разделенные разности\n",
    "    for xj in knots: \n",
    "        knotsk = knots.copy() \n",
    "        knotsk = knotsk[0:k]  # запомнили первые k элементов из knots\n",
    "        # print('knotsk = ', knotsk)\n",
    "        rrk=0  # переменная для разделенной разности от k переменных, 0 т.к. буду итеративно прибавлять\n",
    "        # внутренний цикл, в нем считаю разделенную разность от k переменных\n",
    "        for xi in knotsk:  \n",
    "            knotsk_wo_xi = knotsk.copy()\n",
    "            knotsk_wo_xi.remove(xi)  # запомнили в переменную элементы knotsk кроме xi\n",
    "            # print('knotsk_wo_xi = ', knotsk_wo_xi)\n",
    "            gik = 1/np.prod([xi-xj for xj in knotsk_wo_xi])  # g_ik из альтернативной формулы для рр\n",
    "            rrk+=f.subs(x, xi)*gik  #  прибавили слагаемое из формулы разделенной разности\n",
    "        rr.append(rrk)  # запомнили в массив значение k-й разделенной разности\n",
    "        k+=1\n",
    "        # print('rr=', rr)\n",
    "    \n",
    "    # вычисление полинома Ньютона\n",
    "    for i in range(n):\n",
    "        Nn += rr[i]*np.prod([x-knots[k] for k in range(i)])\n",
    "    return Nn "
   ]
  },
  {
   "cell_type": "markdown",
   "metadata": {},
   "source": [
    "#### определим функцию подсчета максимума отклонения ИПН от функции f(x) на интервале [a,b] по равноотстоящим узлам"
   ]
  },
  {
   "cell_type": "code",
   "execution_count": 5,
   "metadata": {},
   "outputs": [],
   "source": [
    "def RN(n, m, f):\n",
    "    N_n = Nn(n, f)  # полином Ньютона\n",
    "    T = list((b-a)/(m+1)*(i+1) for i in range(m))  # массив точек разбиения [a,b], в которых определяется отклонение \n",
    "    r = [f.subs(x, ti) - N_n.subs(x, ti) for ti in T]  # массив отклонений ИПН в точках T\n",
    "    return max(r)"
   ]
  },
  {
   "cell_type": "markdown",
   "metadata": {},
   "source": [
    "#### определим функцию подсчета максимума отклонения ИПЛ от функции f(x) на интервале [a,b] по оптимальным узлам"
   ]
  },
  {
   "cell_type": "code",
   "execution_count": 6,
   "metadata": {},
   "outputs": [],
   "source": [
    "def RN_opt(n, m, f):\n",
    "    N_n = Nn_opt(n, f)  # полином Ньютона\n",
    "    T = list((b-a)/(m+1)*(i+1) for i in range(m))  # массив точек разбиения [a,b], в которых определяется отклонение \n",
    "    r = [f.subs(x, ti) - N_n.subs(x, ti) for ti in T]  # массив отклонений ИПН в точках T\n",
    "    return max(r)"
   ]
  },
  {
   "cell_type": "markdown",
   "metadata": {},
   "source": [
    "# Заполнение таблицы"
   ]
  },
  {
   "cell_type": "code",
   "execution_count": 7,
   "metadata": {},
   "outputs": [
    {
     "name": "stdout",
     "output_type": "stream",
     "text": [
      "{'n': 3, 'm': 60, 'RNn': 0.0605266008205625, 'RNoptn': 1.52956194861095}\n",
      "{'n': 5, 'm': 100, 'RNn': 1.00725410485002, 'RNoptn': 2.19877286816435}\n",
      "{'n': 10, 'm': 200, 'RNn': 0.0209866120110139, 'RNoptn': 0.0105846091640446}\n",
      "{'n': 15, 'm': 300, 'RNn': 1.63812120490547e-6, 'RNoptn': 2.20853628485340e-6}\n",
      "{'n': 30, 'm': 600, 'RNn': 3.18699822088320e-9, 'RNoptn': 0.0717416145237769}\n",
      "{'n': 50, 'm': 1000, 'RNn': 5.77342636957634e-5, 'RNoptn': 0.000374354353525064}\n",
      "\n",
      "Итоговая таблица: \n"
     ]
    },
    {
     "data": {
      "text/html": [
       "<div>\n",
       "<style scoped>\n",
       "    .dataframe tbody tr th:only-of-type {\n",
       "        vertical-align: middle;\n",
       "    }\n",
       "\n",
       "    .dataframe tbody tr th {\n",
       "        vertical-align: top;\n",
       "    }\n",
       "\n",
       "    .dataframe thead th {\n",
       "        text-align: right;\n",
       "    }\n",
       "</style>\n",
       "<table border=\"1\" class=\"dataframe\">\n",
       "  <thead>\n",
       "    <tr style=\"text-align: right;\">\n",
       "      <th></th>\n",
       "      <th>n</th>\n",
       "      <th>m</th>\n",
       "      <th>RNn</th>\n",
       "      <th>RNoptn</th>\n",
       "    </tr>\n",
       "  </thead>\n",
       "  <tbody>\n",
       "    <tr>\n",
       "      <th>0</th>\n",
       "      <td>3.0</td>\n",
       "      <td>60.0</td>\n",
       "      <td>0.0605266008205625</td>\n",
       "      <td>1.52956194861095</td>\n",
       "    </tr>\n",
       "    <tr>\n",
       "      <th>1</th>\n",
       "      <td>5.0</td>\n",
       "      <td>100.0</td>\n",
       "      <td>1.00725410485002</td>\n",
       "      <td>2.19877286816435</td>\n",
       "    </tr>\n",
       "    <tr>\n",
       "      <th>2</th>\n",
       "      <td>10.0</td>\n",
       "      <td>200.0</td>\n",
       "      <td>0.0209866120110139</td>\n",
       "      <td>0.0105846091640446</td>\n",
       "    </tr>\n",
       "    <tr>\n",
       "      <th>3</th>\n",
       "      <td>15.0</td>\n",
       "      <td>300.0</td>\n",
       "      <td>1.63812120490547e-6</td>\n",
       "      <td>2.20853628485340e-6</td>\n",
       "    </tr>\n",
       "    <tr>\n",
       "      <th>4</th>\n",
       "      <td>30.0</td>\n",
       "      <td>600.0</td>\n",
       "      <td>3.18699822088320e-9</td>\n",
       "      <td>0.0717416145237769</td>\n",
       "    </tr>\n",
       "    <tr>\n",
       "      <th>5</th>\n",
       "      <td>50.0</td>\n",
       "      <td>1000.0</td>\n",
       "      <td>5.77342636957634e-5</td>\n",
       "      <td>0.000374354353525064</td>\n",
       "    </tr>\n",
       "  </tbody>\n",
       "</table>\n",
       "</div>"
      ],
      "text/plain": [
       "      n       m                  RNn                RNoptn\n",
       "0   3.0    60.0   0.0605266008205625      1.52956194861095\n",
       "1   5.0   100.0     1.00725410485002      2.19877286816435\n",
       "2  10.0   200.0   0.0209866120110139    0.0105846091640446\n",
       "3  15.0   300.0  1.63812120490547e-6   2.20853628485340e-6\n",
       "4  30.0   600.0  3.18699822088320e-9    0.0717416145237769\n",
       "5  50.0  1000.0  5.77342636957634e-5  0.000374354353525064"
      ]
     },
     "metadata": {},
     "output_type": "display_data"
    }
   ],
   "source": [
    "df = pd.DataFrame({'n': [], 'm':[], 'RNn': [], 'RNoptn':[]})  # для построения таблицы поведения ИПН при увеличении количества узлов интерполирования\n",
    "n_knots = [3, 5, 10, 15, 30, 50]  # количество узлов интерполирования\n",
    "for n in n_knots:\n",
    "    m = 20*n  # – количество точек разбиения интервала интерполирования, в которых определяется отклонение ИПН от функции\n",
    "    RNn = RN(n, m, f)\n",
    "    RNn_opt = RN_opt(n, m, f)\n",
    "    line = {'n': int(n), 'm':int(m), 'RNn': RNn, 'RNoptn': RNn_opt}\n",
    "    df = df.append(line, ignore_index=True)\n",
    "    # print(Nn(n, f))\n",
    "    print(line)  # добавлено, чтобы понимать, что функция работает, а не зависла\n",
    "print()\n",
    "print('Итоговая таблица: ')\n",
    "display(df)"
   ]
  },
  {
   "cell_type": "markdown",
   "metadata": {},
   "source": [
    "# Построение графиков\n",
    "## По равноотстоящим узлам"
   ]
  },
  {
   "cell_type": "code",
   "execution_count": 8,
   "metadata": {},
   "outputs": [
    {
     "data": {
      "text/plain": [
       "Text(0, 0.5, 'Nn(x), n=50')"
      ]
     },
     "execution_count": 8,
     "metadata": {},
     "output_type": "execute_result"
    },
    {
     "data": {
      "image/png": "[encoded data removed]",
      "text/plain": [
       "<Figure size 432x288 with 4 Axes>"
      ]
     },
     "metadata": {
      "needs_background": "light"
     },
     "output_type": "display_data"
    }
   ],
   "source": [
    "ab = np.arange(0,10,0.1)  # промежуток построения графиков\n",
    "fx = np.array([f.subs(x, i) for i in ab])  # исходная функция на промежутке [0,10]\n",
    "N3 = Nn(3,f)  # Ln(x), n=3\n",
    "N10 = Nn(10,f)  # Ln(x), n=10\n",
    "N50 = Nn(50,f)  # Ln(x), n=50 \n",
    "N3x = np.array([N3.subs(x, i) for i in ab])  # массив значений Ln(x), n = 3, x в промежутке [0,10]\n",
    "N10x = np.array([N10.subs(x, i) for i in ab])  # массив значений Ln(x), n = 10, x в промежутке [0,10]\n",
    "N50x = np.array([N50.subs(x, i) for i in ab])  # массив значений Ln(x), n = 50, x в промежутке [0,10]\n",
    "\n",
    "plt.figure(1)\n",
    "plt.subplot(221)\n",
    "plt.grid()\n",
    "plt.plot(ab, fx, 'k')\n",
    "plt.legend(['f(x)'])\n",
    "plt.subplot(222)\n",
    "plt.plot(ab, fx, 'k', linewidth = 0.5)\n",
    "plt.plot(ab, N3x)\n",
    "plt.grid()\n",
    "plt.xlabel('x')\n",
    "plt.ylabel('Nn(x), n=3')\n",
    "plt.subplot(223)\n",
    "plt.plot(ab, fx, 'k', linewidth = 0.5)\n",
    "plt.plot(ab, N10x)\n",
    "plt.grid()\n",
    "plt.xlabel('x')\n",
    "plt.ylabel('Nn(x), n=10')\n",
    "plt.subplot(224)\n",
    "plt.plot(ab, fx, 'k', linewidth = 0.5)\n",
    "plt.plot(ab, N50x)\n",
    "plt.grid()\n",
    "plt.xlabel('x')\n",
    "plt.ylabel('Nn(x), n=50')"
   ]
  },
  {
   "cell_type": "code",
   "execution_count": 9,
   "metadata": {},
   "outputs": [
    {
     "data": {
      "text/plain": [
       "Text(0.5, 1.0, 'График №1, по равноотстоящим узлам')"
      ]
     },
     "execution_count": 9,
     "metadata": {},
     "output_type": "execute_result"
    },
    {
     "data": {
      "image/png": "[encoded data removed]",
      "text/plain": [
       "<Figure size 432x288 with 1 Axes>"
      ]
     },
     "metadata": {
      "needs_background": "light"
     },
     "output_type": "display_data"
    }
   ],
   "source": [
    "plt.figure(2)\n",
    "plt.grid()\n",
    "plt.plot(ab, fx, '-r')\n",
    "plt.plot(ab, N3x, 'b--')  \n",
    "plt.plot(ab, N10x, 'k--')\n",
    "# plt.plot(ab, N50x, '--')  # сбивается график при n=50\n",
    "plt.legend(['f(x)', 'N3(x)', 'N10(x)'])\n",
    "plt.title('График №1, по равноотстоящим узлам')"
   ]
  },
  {
   "cell_type": "markdown",
   "metadata": {},
   "source": [
    "При малых и больших n метод сработал неудачно"
   ]
  },
  {
   "cell_type": "markdown",
   "metadata": {},
   "source": [
    "Видим, что в середине отрезка интерполяция хорошая, а ближе к концам отрезка - выбросы"
   ]
  },
  {
   "cell_type": "markdown",
   "metadata": {},
   "source": [
    "## по оптимальным узлам"
   ]
  },
  {
   "cell_type": "code",
   "execution_count": 10,
   "metadata": {},
   "outputs": [
    {
     "data": {
      "text/plain": [
       "Text(0, 0.5, 'Nn_opt(x), n=50')"
      ]
     },
     "execution_count": 10,
     "metadata": {},
     "output_type": "execute_result"
    },
    {
     "data": {
      "image/png": "[encoded data removed]",
      "text/plain": [
       "<Figure size 432x288 with 4 Axes>"
      ]
     },
     "metadata": {
      "needs_background": "light"
     },
     "output_type": "display_data"
    }
   ],
   "source": [
    "N3 = Nn_opt(3,f)  # Nn_opt(x), n=3\n",
    "N10 = Nn_opt(10,f)  # Nn_opt(x), n=10\n",
    "N50 = Nn_opt(50,f)  # Nn_opt(x), n=50 \n",
    "N3x = np.array([N3.subs(x, i) for i in ab])  # массив значений Nn_opt(x), n = 3, x в промежутке [0,10]\n",
    "N10x = np.array([N10.subs(x, i) for i in ab])  # массив значений Nn_opt(x), n = 10, x в промежутке [0,10]\n",
    "N50x = np.array([N50.subs(x, i) for i in ab])  # массив значений Nn_opt(x), n = 50, x в промежутке [0,10]\n",
    "\n",
    "plt.figure(3)\n",
    "plt.subplot(221)\n",
    "plt.grid()\n",
    "plt.plot(ab, fx, 'k')\n",
    "plt.legend('f(x)')\n",
    "plt.subplot(222)\n",
    "plt.plot(ab, fx, 'k', linewidth = 0.5)\n",
    "plt.plot(ab, N3x)\n",
    "plt.grid()\n",
    "plt.xlabel('x')\n",
    "plt.ylabel('Nn_opt(x), n=3')\n",
    "plt.subplot(223)\n",
    "plt.plot(ab, fx, 'k', linewidth = 0.5)\n",
    "plt.plot(ab, N10x)\n",
    "plt.grid()\n",
    "plt.xlabel('x')\n",
    "plt.ylabel('Nn_opt(x), n=10')\n",
    "plt.subplot(224)\n",
    "plt.plot(ab, fx, 'k', linewidth = 0.5)\n",
    "plt.plot(ab, N50x)\n",
    "plt.grid()\n",
    "plt.xlabel('x')\n",
    "plt.ylabel('Nn_opt(x), n=50')"
   ]
  },
  {
   "cell_type": "code",
   "execution_count": 11,
   "metadata": {},
   "outputs": [
    {
     "data": {
      "text/plain": [
       "Text(0.5, 1.0, 'График №2')"
      ]
     },
     "execution_count": 11,
     "metadata": {},
     "output_type": "execute_result"
    },
    {
     "data": {
      "image/png": "[encoded data removed]",
      "text/plain": [
       "<Figure size 432x288 with 1 Axes>"
      ]
     },
     "metadata": {
      "needs_background": "light"
     },
     "output_type": "display_data"
    }
   ],
   "source": [
    "plt.figure(4)\n",
    "plt.grid()\n",
    "plt.plot(ab, fx, '-r')\n",
    "plt.plot(ab, N3x, 'b--')  \n",
    "plt.plot(ab, N10x, 'k--')\n",
    "# plt.plot(ab, N50x, '--')  # сбивается график при n=50\n",
    "plt.legend(['f(x)', 'N3opt(x)', 'N10opt(x)'])\n",
    "plt.title('График №2')"
   ]
  },
  {
   "cell_type": "code",
   "execution_count": null,
   "metadata": {},
   "outputs": [],
   "source": []
  }
 ],
 "metadata": {
  "kernelspec": {
   "display_name": "Python 3",
   "language": "python",
   "name": "python3"
  },
  "language_info": {
   "codemirror_mode": {
    "name": "ipython",
    "version": 3
   },
   "file_extension": ".py",
   "mimetype": "text/x-python",
   "name": "python",
   "nbconvert_exporter": "python",
   "pygments_lexer": "ipython3",
   "version": "3.8.3"
  }
 },
 "nbformat": 4,
 "nbformat_minor": 4
}
